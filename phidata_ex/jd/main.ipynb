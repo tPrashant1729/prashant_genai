{
 "cells": [
  {
   "cell_type": "code",
   "execution_count": 2,
   "metadata": {},
   "outputs": [],
   "source": [
    "import streamlit as st\n",
    "from phi.agent import Agent, RunResponse\n",
    "from phi.model.groq import Groq\n",
    "from phi.tools.duckduckgo import DuckDuckGo\n",
    "import tempfile\n",
    "from markitdown import MarkItDown"
   ]
  },
  {
   "cell_type": "code",
   "execution_count": 6,
   "metadata": {},
   "outputs": [
    {
     "name": "stdout",
     "output_type": "stream",
     "text": [
      "\n",
      "Running:\n",
      " - duckduckgo_search(query=AI/ML engineer interview questions, max_results=10)\n",
      "\n",
      "Here's a list of questions that came up from the search results along with some job-specific interview questions gathered accordingly\n",
      "\n",
      "### Section 1: Basics of Machine Learning\n",
      "\n",
      "1. What's the difference between supervised, unsupervised, and reinforcement learning?\n",
      "2. Can you give an example of a simple neural network?\n",
      "3. What is cross-validation in machine learning?\n",
      "4. How do you handle overfitting in a model?\n",
      "5. What's the difference between accuracy, precision, and recall in classification problems?\n",
      "\n",
      "### Section 2: Deep Learning\n",
      "\n",
      "1. What's the difference between a convolutional neural network (CNN) and a recurrent neural network (RNN)?\n",
      "2. How does a CNN work?\n",
      "3. What's the concept of pooling in a CNN?\n",
      "4. What's the difference between train, validation, and test sets in a dataset?\n",
      "5. Can you implement a simple CNN using PyTorch?\n",
      "\n",
      "### Section 3: AI / ML Engineer Specific\n",
      "\n",
      "1. How do you implement data augmentation for image classification tasks?\n",
      "2. Can you describe the differences between OpenCV and TensorFlow in terms of their use cases?\n",
      "3. How do you optimize a model for better performance on a GPU?\n",
      "4. What's the concept of feature engineering, and how do you implement it in a real-world scenario?\n",
      "5. Can you describe a real-world project where you used machine learning to solve a problem?\n",
      "\n",
      "### Section 4: Algorithmic Questions (Specific to Image Processing)\n",
      "\n",
      "1. Implement a simple image segmentation algorithm using a thresholding technique.\n",
      "2. Describe how you would use transfer learning for image classification tasks.\n",
      "3. Can you explain the concept of data preprocessing and feature scaling?\n",
      "4. How do you use OpenCV to detect and track objects in a video feed?\n",
      "5. Can you describe the concept of normalization and its importance in image recognition tasks.\n",
      "\n",
      "### Section 5: Advanced Concepts\n",
      "\n",
      "1. Can you describe the concept of Generative Adversarial Networks (GANs) and its applications?\n",
      "2. How do you use transfer learning in a deep neural network?\n",
      "3. Can you explain the concept of multitask learning and its benefits?\n",
      "4. How do you implement a simple reinforcement learning algorithm using Q-learning?\n",
      "5. Can you describe the concept of ensemble learning and its applications in real-world tasks.\n"
     ]
    }
   ],
   "source": [
    "# Agent setup\n",
    "search_agent = Agent(\n",
    "    model=Groq(id=\"llama-3.1-8b-instant\"),\n",
    "    tools=[DuckDuckGo()],\n",
    "    markdown=True,\n",
    "    debug=True,\n",
    "    show_tool_calls=True,\n",
    "    description=\"Retrieve and structure interview questions from the web.\",\n",
    "    \n",
    ")\n",
    "\n",
    "with open(\"./jd.txt\") as f:\n",
    "    jd = f.read()\n",
    "search_response: RunResponse = search_agent.run(\n",
    "    f\"Create a list of questions for the job role described below:\\n{jd}\", markdown=True\n",
    ")\n",
    "\n",
    "print(search_response.content)"
   ]
  },
  {
   "cell_type": "code",
   "execution_count": 13,
   "metadata": {},
   "outputs": [
    {
     "data": {
      "text/plain": [
       "337"
      ]
     },
     "execution_count": 13,
     "metadata": {},
     "output_type": "execute_result"
    }
   ],
   "source": [
    "import tiktoken\n",
    "encoding = tiktoken.get_encoding(\"o200k_base\")\n",
    "len(encoding.encode(jd))"
   ]
  },
  {
   "cell_type": "code",
   "execution_count": 2,
   "metadata": {},
   "outputs": [
    {
     "name": "stdout",
     "output_type": "stream",
     "text": [
      "CHROME_DESKTOP\n",
      "CONDA_DEFAULT_ENV\n",
      "CONDA_EXE\n",
      "CONDA_PREFIX\n",
      "CONDA_PROMPT_MODIFIER\n",
      "CONDA_PYTHON_EXE\n",
      "CONDA_SHLVL\n",
      "DBUS_SESSION_BUS_ADDRESS\n",
      "DESKTOP_SESSION\n",
      "DISPLAY\n",
      "ELEVENLABS_API_KEY\n",
      "FIREWORKS_API_KEY\n",
      "GDK_BACKEND\n",
      "GDMSESSION\n",
      "GIO_LAUNCHED_DESKTOP_FILE\n",
      "GIO_LAUNCHED_DESKTOP_FILE_PID\n",
      "GITHUB_TOKEN\n",
      "GJS_DEBUG_OUTPUT\n",
      "GJS_DEBUG_TOPICS\n",
      "GNOME_DESKTOP_SESSION_ID\n",
      "GNOME_SHELL_SESSION_MODE\n",
      "GPG_AGENT_INFO\n",
      "GROQ_API_KEY\n",
      "GTK_MODULES\n",
      "HF_API_KEY\n",
      "HOME\n",
      "IM_CONFIG_PHASE\n",
      "INVOCATION_ID\n",
      "JAVA_HOME\n",
      "JOURNAL_STREAM\n",
      "LANG\n",
      "LANGUAGE\n",
      "LESSCLOSE\n",
      "LESSOPEN\n",
      "LOGNAME\n",
      "MANAGERPID\n",
      "NOMIC_API_KEY\n",
      "NVIDIA_API_KEY\n",
      "NVM_BIN\n",
      "NVM_DIR\n",
      "NVM_INC\n",
      "ORIGINAL_XDG_CURRENT_DESKTOP\n",
      "OSTYPE\n",
      "PATH\n",
      "POSH_SESSION_ID\n",
      "POSH_SHELL\n",
      "POSH_SHELL_VERSION\n",
      "POSH_THEME\n",
      "POWERLINE_COMMAND\n",
      "PWD\n",
      "QT_ACCESSIBILITY\n",
      "QT_IM_MODULE\n",
      "SESSION_MANAGER\n",
      "SHELL\n",
      "SHLVL\n",
      "SSH_AGENT_PID\n",
      "SSH_AUTH_SOCK\n",
      "USER\n",
      "USERNAME\n",
      "VSCODE_CODE_CACHE_PATH\n",
      "VSCODE_CRASH_REPORTER_PROCESS_TYPE\n",
      "VSCODE_CWD\n",
      "VSCODE_ESM_ENTRYPOINT\n",
      "VSCODE_HANDLES_UNCAUGHT_ERRORS\n",
      "VSCODE_IPC_HOOK\n",
      "VSCODE_NLS_CONFIG\n",
      "VSCODE_PID\n",
      "WINDOWPATH\n",
      "XAUTHORITY\n",
      "XDG_CONFIG_DIRS\n",
      "XDG_CURRENT_DESKTOP\n",
      "XDG_DATA_DIRS\n",
      "XDG_MENU_PREFIX\n",
      "XDG_RUNTIME_DIR\n",
      "XDG_SESSION_CLASS\n",
      "XDG_SESSION_DESKTOP\n",
      "XDG_SESSION_TYPE\n",
      "XMODIFIERS\n",
      "_\n",
      "ELECTRON_RUN_AS_NODE\n",
      "PYTHONUNBUFFERED\n",
      "_CE_M\n",
      "CONDA_ROOT\n",
      "_CE_CONDA\n",
      "PYTHONIOENCODING\n",
      "CONDA_PREFIX_1\n",
      "PYDEVD_IPYTHON_COMPATIBLE_DEBUGGING\n",
      "PYTHON_FROZEN_MODULES\n",
      "PYDEVD_USE_FRAME_EVAL\n",
      "TERM\n",
      "CLICOLOR\n",
      "FORCE_COLOR\n",
      "CLICOLOR_FORCE\n",
      "PAGER\n",
      "GIT_PAGER\n",
      "MPLBACKEND\n"
     ]
    }
   ],
   "source": [
    "import os\n",
    "\n",
    "def print_env_variables():\n",
    "    for key, value in os.environ.items():\n",
    "        print(f\"{key}\")\n",
    "\n",
    "print_env_variables()\n"
   ]
  },
  {
   "cell_type": "code",
   "execution_count": 10,
   "metadata": {},
   "outputs": [
    {
     "data": {
      "text/plain": [
       "[22, 74, 23, 81, 59, 63, 34, 86, 1, 75]"
      ]
     },
     "execution_count": 10,
     "metadata": {},
     "output_type": "execute_result"
    }
   ],
   "source": [
    "import random \n",
    "l = random.sample(range(1, 101), 10)\n",
    "l"
   ]
  },
  {
   "cell_type": "code",
   "execution_count": 17,
   "metadata": {},
   "outputs": [
    {
     "name": "stdout",
     "output_type": "stream",
     "text": [
      "90 86\n"
     ]
    }
   ],
   "source": [
    "l = [22, 74, 23, 81, 59, 63, 34, 86, 1, 75, 90]\n",
    "\n",
    "max = l[0]\n",
    "\n",
    "for i in range(1 ,len(l)):\n",
    "    if l[i] > max:\n",
    "        max = l[i]\n",
    "second = l[0]\n",
    "\n",
    "for i in range(len(l)-1, -1, -1):\n",
    "    if l[i] > second and l[i] < max:\n",
    "        second = l[i]\n",
    "print(max , second)\n"
   ]
  },
  {
   "cell_type": "code",
   "execution_count": null,
   "metadata": {},
   "outputs": [],
   "source": []
  }
 ],
 "metadata": {
  "kernelspec": {
   "display_name": "snode",
   "language": "python",
   "name": "python3"
  },
  "language_info": {
   "codemirror_mode": {
    "name": "ipython",
    "version": 3
   },
   "file_extension": ".py",
   "mimetype": "text/x-python",
   "name": "python",
   "nbconvert_exporter": "python",
   "pygments_lexer": "ipython3",
   "version": "3.10.14"
  }
 },
 "nbformat": 4,
 "nbformat_minor": 2
}
