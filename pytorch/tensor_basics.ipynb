{
 "cells": [
  {
   "cell_type": "code",
   "execution_count": null,
   "id": "1d483d94-120d-4cd4-8f20-45307a8c1e6f",
   "metadata": {},
   "outputs": [
    {
     "name": "stdout",
     "output_type": "stream",
     "text": [
      "tensor([0.4810, 0.5623, 0.9896])\n"
     ]
    }
   ],
   "source": [
    "import torch\n",
    "\n",
    "x = torch.rand(3) \n",
    "print(x)"
   ]
  },
  {
   "cell_type": "code",
   "execution_count": null,
   "id": "1ec537b2-3a9f-439d-bac2-8bfb1a2f918e",
   "metadata": {},
   "outputs": [
    {
     "name": "stdout",
     "output_type": "stream",
     "text": [
      "tensor([0.8227])\n"
     ]
    }
   ],
   "source": [
    "x = torch.rand(1) \n",
    "print(x)"
   ]
  },
  {
   "cell_type": "code",
   "execution_count": null,
   "id": "715bfc18-e5ab-40ff-8d7b-893fd1942ca7",
   "metadata": {},
   "outputs": [
    {
     "name": "stdout",
     "output_type": "stream",
     "text": [
      "tensor([[0.1672],\n",
      "        [0.1277]])\n"
     ]
    }
   ],
   "source": [
    "x = torch.rand(2,1) \n",
    "print(x)"
   ]
  },
  {
   "cell_type": "code",
   "execution_count": null,
   "id": "fe4c5b83-0c37-4314-a834-0e14b2cfbce0",
   "metadata": {},
   "outputs": [
    {
     "name": "stdout",
     "output_type": "stream",
     "text": [
      "tensor([[[0.5094, 0.7397]],\n",
      "\n",
      "        [[0.4219, 0.5556]]])\n"
     ]
    }
   ],
   "source": [
    "x = torch.rand(2,1,2) \n",
    "print(x)"
   ]
  },
  {
   "cell_type": "code",
   "execution_count": null,
   "id": "4fb7cc64-00b2-45ba-a3d2-45f1d2a7ddf9",
   "metadata": {},
   "outputs": [
    {
     "name": "stdout",
     "output_type": "stream",
     "text": [
      "tensor([[[0.7601, 0.8453]],\n",
      "\n",
      "        [[0.4190, 0.6025]]])\n"
     ]
    }
   ],
   "source": [
    "x = torch.rand((2,1,2)) \n",
    "print(x)"
   ]
  },
  {
   "cell_type": "code",
   "execution_count": null,
   "id": "4d4759db-2201-4cba-8500-de21aca04f9a",
   "metadata": {},
   "outputs": [
    {
     "name": "stdout",
     "output_type": "stream",
     "text": [
      "tensor([[[0.4488],\n",
      "         [0.8911]],\n",
      "\n",
      "        [[0.4460],\n",
      "         [0.2721]]])\n"
     ]
    }
   ],
   "source": [
    "x = torch.rand((2,2,1)) \n",
    "print(x)"
   ]
  },
  {
   "cell_type": "code",
   "execution_count": null,
   "id": "c3d70113-df6c-44b2-a9bb-af4a6770a937",
   "metadata": {},
   "outputs": [
    {
     "name": "stdout",
     "output_type": "stream",
     "text": [
      "tensor([[[0.4739],\n",
      "         [0.3564]]])\n"
     ]
    }
   ],
   "source": [
    "x = torch.rand((1,2,1)) \n",
    "print(x)"
   ]
  },
  {
   "cell_type": "code",
   "execution_count": null,
   "id": "bea92f31-cc21-4db8-becf-d1565fc67c81",
   "metadata": {},
   "outputs": [
    {
     "name": "stdout",
     "output_type": "stream",
     "text": [
      "tensor([[[[0.1817]]]])\n"
     ]
    }
   ],
   "source": [
    "x = torch.rand((1,1,1,1)) \n",
    "print(x)"
   ]
  },
  {
   "cell_type": "code",
   "execution_count": null,
   "id": "7d529fa2-4109-49dd-a107-e615da59f96c",
   "metadata": {},
   "outputs": [
    {
     "name": "stdout",
     "output_type": "stream",
     "text": [
      "tensor([[0.]])\n"
     ]
    }
   ],
   "source": [
    "print(torch.zeros(1,1))"
   ]
  },
  {
   "cell_type": "code",
   "execution_count": null,
   "id": "9b2543ae-66e7-4a0f-9389-490daa76fc7b",
   "metadata": {},
   "outputs": [
    {
     "name": "stdout",
     "output_type": "stream",
     "text": [
      "tensor([[0., 0., 0.]])\n"
     ]
    }
   ],
   "source": [
    "print(torch.zeros(1,3))"
   ]
  },
  {
   "cell_type": "code",
   "execution_count": null,
   "id": "2aca9848-2ed5-4ee0-9427-7ca09aeb1438",
   "metadata": {},
   "outputs": [
    {
     "name": "stdout",
     "output_type": "stream",
     "text": [
      "tensor([[0., 0.],\n",
      "        [0., 0.]])\n"
     ]
    }
   ],
   "source": [
    "print(torch.zeros_like(torch.rand(2,2)))"
   ]
  },
  {
   "cell_type": "code",
   "execution_count": null,
   "id": "f7b3850f-253b-4f11-8553-12d45a934697",
   "metadata": {},
   "outputs": [
    {
     "name": "stdout",
     "output_type": "stream",
     "text": [
      "tensor([[1., 1.],\n",
      "        [1., 1.]])\n"
     ]
    }
   ],
   "source": [
    "print(torch.ones_like(torch.rand(2,2)))"
   ]
  },
  {
   "cell_type": "code",
   "execution_count": null,
   "id": "e29008db-0d11-4ec9-95e4-196999750d72",
   "metadata": {},
   "outputs": [
    {
     "name": "stdout",
     "output_type": "stream",
     "text": [
      "tensor([[1., 1.]])\n"
     ]
    }
   ],
   "source": [
    "print(torch.ones(1,2))"
   ]
  },
  {
   "cell_type": "code",
   "execution_count": null,
   "id": "82a75d92-4b42-4408-92fd-86394a77e964",
   "metadata": {},
   "outputs": [
    {
     "name": "stdout",
     "output_type": "stream",
     "text": [
      "tensor([1, 2, 3])\n"
     ]
    }
   ],
   "source": [
    "print(torch.tensor([1,2,3]))"
   ]
  },
  {
   "cell_type": "code",
   "execution_count": null,
   "id": "bc807144-7674-4b44-bf78-6298bb396c97",
   "metadata": {},
   "outputs": [
    {
     "name": "stdout",
     "output_type": "stream",
     "text": [
      "tensor([1., 2., 3.])\n"
     ]
    }
   ],
   "source": [
    "print(torch.tensor([1,2,3.]))"
   ]
  },
  {
   "cell_type": "code",
   "execution_count": null,
   "id": "04d5b78d-2df9-4130-831f-f37ad4cec88a",
   "metadata": {},
   "outputs": [
    {
     "name": "stdout",
     "output_type": "stream",
     "text": [
      "torch.float32\n"
     ]
    }
   ],
   "source": [
    "print(torch.tensor([1,2,3.]).dtype)"
   ]
  },
  {
   "cell_type": "code",
   "execution_count": null,
   "id": "ce27579d-3c6f-448c-aaa7-56572252aa52",
   "metadata": {},
   "outputs": [
    {
     "name": "stdout",
     "output_type": "stream",
     "text": [
      "tensor([5., 7., 9.])\n"
     ]
    }
   ],
   "source": [
    "x = torch.tensor([1,2,3.])\n",
    "y = torch.tensor([4,5,6.])\n",
    "\n",
    "y.add_(x)\n",
    "print(y)"
   ]
  },
  {
   "cell_type": "code",
   "execution_count": null,
   "id": "a475a8ba-1328-4f0d-bee2-33d845e6faf6",
   "metadata": {},
   "outputs": [
    {
     "name": "stdout",
     "output_type": "stream",
     "text": [
      "tensor([3., 3., 3.])\n"
     ]
    }
   ],
   "source": [
    "x = torch.tensor([1,2,3.])\n",
    "y = torch.tensor([4,5,6.])\n",
    "y.sub_(x)\n",
    "print(y)"
   ]
  },
  {
   "cell_type": "code",
   "execution_count": null,
   "id": "71584da7-3617-4270-9caf-b2deaae9277d",
   "metadata": {},
   "outputs": [
    {
     "name": "stdout",
     "output_type": "stream",
     "text": [
      "tensor([ 4., 10., 18.])\n"
     ]
    }
   ],
   "source": [
    "x = torch.tensor([1,2,3.])\n",
    "y = torch.tensor([4,5,6.])\n",
    "y.mul_(x)\n",
    "print(y)"
   ]
  },
  {
   "cell_type": "code",
   "execution_count": null,
   "id": "d81d2cb8-4803-46f4-8cc9-fa57b5f5f47a",
   "metadata": {},
   "outputs": [
    {
     "name": "stdout",
     "output_type": "stream",
     "text": [
      "tensor([4.0000, 2.5000, 2.0000])\n"
     ]
    }
   ],
   "source": [
    "x = torch.tensor([1,2,3.])\n",
    "y = torch.tensor([4,5,6.])\n",
    "y.div_(x)\n",
    "print(y)"
   ]
  },
  {
   "cell_type": "code",
   "execution_count": null,
   "id": "0d4fdbe8-2e4b-4b7d-99f4-a22944c807b3",
   "metadata": {},
   "outputs": [
    {
     "name": "stdout",
     "output_type": "stream",
     "text": [
      "tensor([[0.6590, 0.5588, 0.5057, 0.7003],\n",
      "        [0.6918, 0.7960, 0.7238, 0.9940],\n",
      "        [0.3483, 0.9989, 0.4907, 0.0391],\n",
      "        [0.5206, 0.9531, 0.7036, 0.5829]])\n",
      "tensor([[0.6590, 0.5588, 0.5057, 0.7003, 0.6918, 0.7960, 0.7238, 0.9940],\n",
      "        [0.3483, 0.9989, 0.4907, 0.0391, 0.5206, 0.9531, 0.7036, 0.5829]])\n"
     ]
    }
   ],
   "source": [
    "x = torch.rand(4,4)\n",
    "y = x.view(-1, 8)\n",
    "print(x)\n",
    "print(y)"
   ]
  },
  {
   "cell_type": "code",
   "execution_count": null,
   "id": "bfc12e84-041a-4104-bcf5-e358ea3e6900",
   "metadata": {},
   "outputs": [
    {
     "name": "stdout",
     "output_type": "stream",
     "text": [
      "torch.Size([2, 8])\n"
     ]
    }
   ],
   "source": [
    "print(y.size())"
   ]
  },
  {
   "cell_type": "code",
   "execution_count": null,
   "id": "970d0fca-3162-4e48-a663-128518b9b0d9",
   "metadata": {},
   "outputs": [
    {
     "name": "stdout",
     "output_type": "stream",
     "text": [
      "tensor([[0.6590, 0.5588],\n",
      "        [0.5057, 0.7003],\n",
      "        [0.6918, 0.7960],\n",
      "        [0.7238, 0.9940],\n",
      "        [0.3483, 0.9989],\n",
      "        [0.4907, 0.0391],\n",
      "        [0.5206, 0.9531],\n",
      "        [0.7036, 0.5829]])\n"
     ]
    }
   ],
   "source": [
    "print(x.view(8,-1))"
   ]
  },
  {
   "cell_type": "code",
   "execution_count": null,
   "id": "58a34bc8-dc68-4a9c-8f43-90a0430a94bf",
   "metadata": {},
   "outputs": [
    {
     "name": "stdout",
     "output_type": "stream",
     "text": [
      "tensor([[0.9523, 0.7680, 0.7562, 0.0026],\n",
      "        [0.4210, 0.7285, 0.6821, 0.5358],\n",
      "        [0.9713, 0.1671, 0.6797, 0.8465],\n",
      "        [0.7184, 0.6830, 0.7756, 0.7417]])\n",
      "<class 'torch.Tensor'>\n"
     ]
    }
   ],
   "source": [
    "import torch as t\n",
    "import numpy as np\n",
    "\n",
    "x = t.rand(4,4)\n",
    "print(x)\n",
    "x.numpy()\n",
    "print(type(x))"
   ]
  },
  {
   "cell_type": "code",
   "execution_count": null,
   "id": "a01d3cec-4715-4bdb-9709-17e70b960067",
   "metadata": {},
   "outputs": [
    {
     "name": "stdout",
     "output_type": "stream",
     "text": [
      "<class 'numpy.ndarray'>\n"
     ]
    }
   ],
   "source": [
    "y = x.numpy()\n",
    "print(type(y))"
   ]
  },
  {
   "cell_type": "code",
   "execution_count": null,
   "id": "e80ac905-13f0-4dd2-9cc5-e3a367dff462",
   "metadata": {},
   "outputs": [
    {
     "name": "stdout",
     "output_type": "stream",
     "text": [
      "tensor([[2.9523, 2.7680, 2.7562, 2.0026],\n",
      "        [2.4210, 2.7285, 2.6821, 2.5358],\n",
      "        [2.9713, 2.1671, 2.6797, 2.8465],\n",
      "        [2.7184, 2.6830, 2.7756, 2.7417]])\n",
      "[[2.9522617 2.768019  2.756216  2.002638 ]\n",
      " [2.42099   2.7284646 2.6821234 2.535843 ]\n",
      " [2.9712543 2.1670613 2.679729  2.8465104]\n",
      " [2.7183785 2.683022  2.7755585 2.7417455]]\n"
     ]
    }
   ],
   "source": [
    "x.add_(2) # trailing '_' function make changes inplace\n",
    "print(x)\n",
    "print(y)\n",
    "#sharing same memory, be carefull"
   ]
  },
  {
   "cell_type": "code",
   "execution_count": null,
   "id": "26138073-8716-4047-ba78-8be62c72f50e",
   "metadata": {},
   "outputs": [],
   "source": [
    "# numpy can only handle tensors on cpu, so to convert to numpy array from tensor, that was on gpu. First we have to transfer all tensors to cpu"
   ]
  }
 ],
 "metadata": {
  "language_info": {
   "codemirror_mode": {
    "name": "ipython",
    "version": 3
   },
   "file_extension": ".py",
   "mimetype": "text/x-python",
   "name": "python",
   "nbconvert_exporter": "python",
   "pygments_lexer": "ipython3",
   "version": 3
  }
 },
 "nbformat": 4,
 "nbformat_minor": 2
}
