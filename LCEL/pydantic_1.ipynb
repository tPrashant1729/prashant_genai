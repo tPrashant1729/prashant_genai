{
 "cells": [
  {
   "cell_type": "code",
   "execution_count": 20,
   "metadata": {},
   "outputs": [
    {
     "name": "stdout",
     "output_type": "stream",
     "text": [
      "name=False age=30 email=''\n"
     ]
    }
   ],
   "source": [
    "from pydantic import BaseModel\n",
    "\n",
    "class User(BaseModel):\n",
    "    name: bool\n",
    "    age: int\n",
    "    email: str\n",
    "\n",
    "user = User(name=\"0\", age=\"30\", email=\"\")\n",
    "print(user)\n"
   ]
  },
  {
   "cell_type": "code",
   "execution_count": 58,
   "metadata": {},
   "outputs": [
    {
     "name": "stdout",
     "output_type": "stream",
     "text": [
      "name='foo' price=Decimal('7.995')\n"
     ]
    }
   ],
   "source": [
    "from pydantic import BaseModel, condecimal\n",
    "from decimal import Decimal\n",
    "\n",
    "class Product(BaseModel):\n",
    "    name: str\n",
    "    price: condecimal(max_digits=4, decimal_places=3)  # max_digits and decimal_places for decimals\n",
    "\n",
    "print(Product(name=\"foo\", price=Decimal('7.995')))\n"
   ]
  },
  {
   "cell_type": "code",
   "execution_count": 64,
   "metadata": {},
   "outputs": [
    {
     "name": "stdout",
     "output_type": "stream",
     "text": [
      "name='akashvani' age=18\n"
     ]
    }
   ],
   "source": [
    "from pydantic import BaseModel, field_validator\n",
    "\n",
    "class Person(BaseModel):\n",
    "    name: str\n",
    "    age: int\n",
    "\n",
    "    @field_validator('age')\n",
    "    def check_age(cls, value):\n",
    "        if value < 18:\n",
    "            raise ValueError('Must be at least 18 years old')\n",
    "        return value\n",
    "\n",
    "print(Person(name=\"akashvani\",age=18))"
   ]
  },
  {
   "cell_type": "code",
   "execution_count": 71,
   "metadata": {},
   "outputs": [
    {
     "data": {
      "text/plain": [
       "50"
      ]
     },
     "execution_count": 71,
     "metadata": {},
     "output_type": "execute_result"
    }
   ],
   "source": [
    "from pydantic import BaseModel\n",
    "\n",
    "class ChatRequest(BaseModel):\n",
    "    prompt: str\n",
    "    max_tokens: int = Field(..., gt=0)  # Ensure positive token count\n",
    "\n",
    "class ChatResponse(BaseModel):\n",
    "    generated_text: str\n",
    "    token_usage: int = Field(..., ge=0)\n",
    "\n",
    "# Validate a request and response\n",
    "request = ChatRequest(prompt=\"What is the weather?\", max_tokens=50)\n",
    "response = ChatResponse(generated_text=\"It is sunny today.\", token_usage=45)\n",
    "\n"
   ]
  },
  {
   "cell_type": "code",
   "execution_count": 82,
   "metadata": {},
   "outputs": [
    {
     "data": {
      "text/plain": [
       "'What is the weather?'"
      ]
     },
     "execution_count": 82,
     "metadata": {},
     "output_type": "execute_result"
    }
   ],
   "source": [
    "getattr(ChatRequest(prompt=\"What is the weather?\", max_tokens=50), \"prompt\")"
   ]
  },
  {
   "cell_type": "code",
   "execution_count": 73,
   "metadata": {},
   "outputs": [],
   "source": [
    "from typing import Optional\n",
    "from pydantic_settings import BaseSettings\n",
    "from functools import lru_cache\n",
    "from dotenv import load_dotenv\n",
    "import os\n",
    "\n",
    "load_dotenv()\n",
    "\n",
    "\n",
    "class LLMProviderSettings(BaseSettings):\n",
    "    temperature: float = 0.0\n",
    "    max_tokens: Optional[int] = None\n",
    "    max_retries: int = 3\n",
    "\n",
    "\n",
    "class OpenAISettings(LLMProviderSettings):\n",
    "    # api_key: str = os.getenv(\"OPENAI_API_KEY\")\n",
    "    default_model: str = \"gpt-4o\"\n",
    "\n",
    "\n",
    "class AnthropicSettings(LLMProviderSettings):\n",
    "    # api_key: str = os.getenv(\"ANTHROPIC_API_KEY\")\n",
    "    default_model: str = \"claude-3-5-sonnet-20240620\"\n",
    "    max_tokens: int = 1024\n",
    "\n",
    "\n",
    "class LlamaSettings(LLMProviderSettings):\n",
    "    api_key: str = \"key\"  # required, but not used\n",
    "    default_model: str = \"llama3\"\n",
    "    base_url: str = \"http://localhost:11434/v1\"\n",
    "\n",
    "\n",
    "class Settings(BaseSettings):\n",
    "    app_name: str = \"GenAI Project Template\"\n",
    "    openai: OpenAISettings = OpenAISettings()\n",
    "    anthropic: AnthropicSettings = AnthropicSettings()\n",
    "    llama: LlamaSettings = LlamaSettings()\n",
    "\n",
    "\n",
    "@lru_cache\n",
    "def get_settings():\n",
    "    return Settings()"
   ]
  }
 ],
 "metadata": {
  "kernelspec": {
   "display_name": "snode",
   "language": "python",
   "name": "python3"
  },
  "language_info": {
   "codemirror_mode": {
    "name": "ipython",
    "version": 3
   },
   "file_extension": ".py",
   "mimetype": "text/x-python",
   "name": "python",
   "nbconvert_exporter": "python",
   "pygments_lexer": "ipython3",
   "version": "3.10.14"
  }
 },
 "nbformat": 4,
 "nbformat_minor": 2
}
