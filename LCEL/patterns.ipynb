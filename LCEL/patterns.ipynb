{
 "cells": [
  {
   "cell_type": "code",
   "execution_count": 1,
   "metadata": {},
   "outputs": [],
   "source": [
    "from abc import ABC, abstractmethod\n",
    "\n",
    "class Vehicle(ABC):\n",
    "    @abstractmethod\n",
    "    def get_details(self) -> str:\n",
    "        pass\n",
    "\n",
    "class Car(Vehicle):\n",
    "    def __init__(self, color: str, engine: str, seats: int):\n",
    "        self.color = color\n",
    "        self.engine = engine\n",
    "        self.seats = seats\n",
    "\n",
    "    def get_details(self) -> str:\n",
    "        return f\"Car [Color: {self.color}, Engine: {self.engine}, Seats: {self.seats}]\"\n",
    "\n",
    "class Bike(Vehicle):\n",
    "    def __init__(self, color: str, engine: str, type_: str):\n",
    "        self.color = color\n",
    "        self.engine = engine\n",
    "        self.type_ = type_\n",
    "\n",
    "    def get_details(self) -> str:\n",
    "        return f\"Bike [Color: {self.color}, Engine: {self.engine}, Type: {self.type_}]\"\n",
    "\n",
    "class VehicleFactory:\n",
    "    @staticmethod\n",
    "    def create_vehicle(vehicle_type: str, **kwargs) -> Vehicle:\n",
    "        if vehicle_type == \"Car\":\n",
    "            return Car(color=kwargs[\"color\"], engine=kwargs[\"engine\"], seats=kwargs[\"seats\"])\n",
    "        elif vehicle_type == \"Bike\":\n",
    "            return Bike(color=kwargs[\"color\"], engine=kwargs[\"engine\"], type_=kwargs.get(\"type_\"))\n",
    "        else:\n",
    "            raise ValueError(f\"Unknown vehicle type: {vehicle_type}\")\n",
    "\n"
   ]
  },
  {
   "cell_type": "code",
   "execution_count": 2,
   "metadata": {},
   "outputs": [
    {
     "name": "stdout",
     "output_type": "stream",
     "text": [
      "Car [Color: Red, Engine: V6, Seats: 4]\n",
      "Bike [Color: Blue, Engine: 500cc, Type: None]\n"
     ]
    }
   ],
   "source": [
    "if __name__ == \"__main__\":\n",
    "    # Create a car with custom parameters\n",
    "    car = VehicleFactory.create_vehicle(\n",
    "        vehicle_type=\"Car\",\n",
    "        color=\"Red\",\n",
    "        engine=\"V6\",\n",
    "        seats=4\n",
    "    )\n",
    "    print(car.get_details())\n",
    "\n",
    "    # Create a bike with custom parameters\n",
    "    bike = VehicleFactory.create_vehicle(\n",
    "        vehicle_type=\"Bike\",\n",
    "        color=\"Blue\",\n",
    "        engine=\"500cc\"\n",
    "    )\n",
    "    print(bike.get_details())\n"
   ]
  },
  {
   "cell_type": "code",
   "execution_count": 1,
   "metadata": {},
   "outputs": [
    {
     "name": "stdout",
     "output_type": "stream",
     "text": [
      "OpenAI invoked with API Key: None\n"
     ]
    }
   ],
   "source": [
    "from openai import OpenAI\n",
    "from groq import Groq\n",
    "import anthropic\n",
    "from abc import ABC, abstractmethod\n",
    "\n",
    "class llm(ABC):\n",
    "    @abstractmethod\n",
    "    def invoke(self) -> str:\n",
    "        pass\n",
    "\n",
    "class OpenAI(llm):\n",
    "    def __init__(self, api_key: str):\n",
    "        self.api_key = api_key\n",
    "\n",
    "    def invoke(self) -> str:\n",
    "\n",
    "        return f\"OpenAI invoked with API Key: {self.api_key}\"\n",
    "\n",
    "class Groq(llm):\n",
    "    def __init__(self, api_key: str):\n",
    "        self.api_key = api_key\n",
    "\n",
    "    def invoke(self) -> str:\n",
    "        return f\"Groq invoked with API Key: {self.api_key}\"\n",
    "\n",
    "class anthropic(llm):\n",
    "    def __init__(self, api_key: str):\n",
    "        self.api_key = api_key\n",
    "\n",
    "    def invoke(self) -> str:\n",
    "        return f\"anthropic invoked with API Key: {self.api_key}\"\n",
    "\n",
    "class llmFactory:\n",
    "    @staticmethod\n",
    "    def create_llm(provider: str = \"OpanAI\", **kwargs) -> llm:\n",
    "        if provider == \"OpenAI\":\n",
    "            return OpenAI(api_key=kwargs.get(\"api_key\"))\n",
    "        elif provider == \"Groq\":\n",
    "            return Groq(api_key=kwargs.get(\"api_key\"))\n",
    "        elif provider == \"anthropic\":\n",
    "            return anthropic(api_key=kwargs.get(\"api_key\"))\n",
    "        else:\n",
    "            raise ValueError(f\"Unknown llm type: {provider}\")\n",
    "        \n",
    "if __name__ == \"__main__\":\n",
    "    # Create an OpenAI LLM with custom parameters\n",
    "    client = llmFactory.create_llm(\n",
    "        provider=\"Groq\",\n",
    "        api=\"svavdbvsdfgzxvd\"\n",
    "    )\n",
    "    print(openai.invoke())\n",
    "\n"
   ]
  }
 ],
 "metadata": {
  "kernelspec": {
   "display_name": "snode",
   "language": "python",
   "name": "python3"
  },
  "language_info": {
   "codemirror_mode": {
    "name": "ipython",
    "version": 3
   },
   "file_extension": ".py",
   "mimetype": "text/x-python",
   "name": "python",
   "nbconvert_exporter": "python",
   "pygments_lexer": "ipython3",
   "version": "3.10.14"
  }
 },
 "nbformat": 4,
 "nbformat_minor": 2
}
