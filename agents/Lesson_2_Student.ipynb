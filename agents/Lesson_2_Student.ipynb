{
 "cells": [
  {
   "cell_type": "markdown",
   "id": "21fa2e13-567d-4509-9023-c99fb230f31f",
   "metadata": {},
   "source": [
    "# Lesson 2 : LangGraph Components"
   ]
  },
  {
   "cell_type": "code",
   "execution_count": 1,
   "id": "f5762271-8736-4e94-9444-8c92bd0e8074",
   "metadata": {
    "height": 47
   },
   "outputs": [],
   "source": [
    "from dotenv import load_dotenv\n",
    "_ = load_dotenv()"
   ]
  },
  {
   "cell_type": "code",
   "execution_count": 2,
   "id": "d0168aee-bce9-4d60-b827-f86a88187e31",
   "metadata": {
    "height": 130
   },
   "outputs": [],
   "source": [
    "from langgraph.graph import StateGraph, END\n",
    "from typing import TypedDict, Annotated\n",
    "import operator\n",
    "from langchain_core.messages import AnyMessage, SystemMessage, HumanMessage, ToolMessage\n",
    "from langchain_groq import ChatGroq\n",
    "from langchain_community.tools.tavily_search import TavilySearchResults"
   ]
  },
  {
   "cell_type": "code",
   "execution_count": 3,
   "id": "2589c5b6-6cc2-4594-9a17-dccdcf676054",
   "metadata": {
    "height": 79
   },
   "outputs": [
    {
     "name": "stdout",
     "output_type": "stream",
     "text": [
      "<class 'langchain_community.tools.tavily_search.tool.TavilySearchResults'>\n",
      "tavily_search_results_json\n"
     ]
    }
   ],
   "source": [
    "tool = TavilySearchResults(max_results=4) #increased number of results\n",
    "print(type(tool))\n",
    "print(tool.name)"
   ]
  },
  {
   "cell_type": "markdown",
   "id": "e196c186-af55-4f2d-b569-b7d63a859304",
   "metadata": {},
   "source": [
    "> If you are not familiar with python typing annotation, you can refer to the [python documents](https://docs.python.org/3/library/typing.html)."
   ]
  },
  {
   "cell_type": "code",
   "execution_count": 4,
   "id": "a2ba84ec-c172-4de7-ac55-e3158a531b23",
   "metadata": {
    "height": 47
   },
   "outputs": [],
   "source": [
    "class AgentState(TypedDict):\n",
    "    messages: Annotated[list[AnyMessage], operator.add]"
   ]
  },
  {
   "cell_type": "markdown",
   "id": "74c7ba73-e603-453b-b06f-5db92c567b19",
   "metadata": {},
   "source": [
    "> Note: in `take_action` below, some logic was added to cover the case that the LLM returned a non-existent tool name. Even with function calling, LLMs can still occasionally hallucinate. Note that all that is done is instructing the LLM to try again! An advantage of an agentic organization."
   ]
  },
  {
   "cell_type": "code",
   "execution_count": 5,
   "id": "efd62d2d",
   "metadata": {},
   "outputs": [],
   "source": [
    "from langgraph.checkpoint.memory import MemorySaver\n",
    "\n",
    "memory = MemorySaver()"
   ]
  },
  {
   "cell_type": "code",
   "execution_count": 6,
   "id": "876d5092-b8ef-4e38-b4d7-0e80c609bf7a",
   "metadata": {
    "height": 742
   },
   "outputs": [],
   "source": [
    "class Agent:\n",
    "    def __init__(self, model, tools, checkpointer, system=\"\"):\n",
    "        self.system = system\n",
    "        graph = StateGraph(AgentState)\n",
    "        graph.add_node(\"llm\", self.call_openai)\n",
    "        graph.add_node(\"action\", self.take_action)\n",
    "        graph.add_conditional_edges(\"llm\", self.exists_action, {True: \"action\", False: END})\n",
    "        graph.add_edge(\"action\", \"llm\")\n",
    "        graph.set_entry_point(\"llm\")\n",
    "        self.graph = graph.compile(checkpointer=checkpointer)\n",
    "        self.tools = {t.name: t for t in tools}\n",
    "        self.model = model.bind_tools(tools)\n",
    "\n",
    "    def call_openai(self, state: AgentState):\n",
    "        messages = state['messages']\n",
    "        if self.system:\n",
    "            messages = [SystemMessage(content=self.system)] + messages\n",
    "        message = self.model.invoke(messages)\n",
    "        return {'messages': [message]}\n",
    "\n",
    "    def exists_action(self, state: AgentState):\n",
    "        result = state['messages'][-1]\n",
    "        return len(result.tool_calls) > 0\n",
    "\n",
    "    def take_action(self, state: AgentState):\n",
    "        tool_calls = state['messages'][-1].tool_calls\n",
    "        results = []\n",
    "        for t in tool_calls:\n",
    "            print(f\"Calling: {t}\")\n",
    "            result = self.tools[t['name']].invoke(t['args'])\n",
    "            results.append(ToolMessage(tool_call_id=t['id'], name=t['name'], content=str(result)))\n",
    "        print(\"Back to the model!\")\n",
    "        return {'messages': results}"
   ]
  },
  {
   "cell_type": "code",
   "execution_count": null,
   "id": "2c43e629",
   "metadata": {},
   "outputs": [],
   "source": []
  },
  {
   "cell_type": "code",
   "execution_count": 24,
   "id": "10084a02-2928-4945-9f7c-ad3f5b33caf7",
   "metadata": {
    "height": 164
   },
   "outputs": [],
   "source": [
    "prompt = \"\"\"You are a smart research assistant. Use the search engine to look up information. \\\n",
    "You are allowed to make multiple calls (either together or in sequence). \\\n",
    "Only look up information when you are sure of what you want. \\\n",
    "If you need to look up some information before asking a follow up question, you are allowed to do that!\n",
    "\"\"\"\n",
    "\n",
    "model = ChatGroq(model=\"llama-3.1-8b-instant\")  #reduce inference cost\n",
    "abot = Agent(model, [tool],memory, system=prompt)"
   ]
  },
  {
   "cell_type": "code",
   "execution_count": 12,
   "id": "a3d6f5f4-2392-41b9-ab96-7919840baa3e",
   "metadata": {
    "height": 64
   },
   "outputs": [
    {
     "data": {
      "image/png": "[encoded data removed]",
      "text/plain": [
       "<IPython.core.display.Image object>"
      ]
     },
     "execution_count": 12,
     "metadata": {},
     "output_type": "execute_result"
    }
   ],
   "source": [
    "from IPython.display import Image\n",
    "\n",
    "Image(abot.graph.get_graph().draw_png())"
   ]
  },
  {
   "cell_type": "code",
   "execution_count": 25,
   "id": "83588e70-254f-4f83-a510-c8ae81e729b0",
   "metadata": {
    "height": 47
   },
   "outputs": [],
   "source": [
    "messages = [HumanMessage(content=\"What is the weather in sf?\")]\n",
    "# result = abot.graph.invoke({\"messages\": messages})"
   ]
  },
  {
   "cell_type": "code",
   "execution_count": 25,
   "id": "6cb3ef4c-58b3-401b-b104-0d51e553d982",
   "metadata": {
    "height": 30
   },
   "outputs": [
    {
     "data": {
      "text/plain": [
       "'The current weather in San Francisco is partly cloudy with a temperature of 13.9 degrees Celsius (57 degrees Fahrenheit). The wind is coming from the southwest at a speed of 4.5 miles per hour (7.2 kilometers per hour). The humidity is at 93%.'"
      ]
     },
     "execution_count": 25,
     "metadata": {},
     "output_type": "execute_result"
    }
   ],
   "source": [
    "result['messages'][-1].content"
   ]
  },
  {
   "cell_type": "code",
   "execution_count": 24,
   "id": "89a06a8c-fcd4-4ca6-98f0-36c5809813e6",
   "metadata": {
    "height": 30,
    "scrolled": true
   },
   "outputs": [
    {
     "data": {
      "text/plain": [
       "{'messages': [HumanMessage(content='What is the weather in sf?', additional_kwargs={}, response_metadata={}),\n",
       "  AIMessage(content='', additional_kwargs={'tool_calls': [{'id': 'call_zqw2', 'function': {'arguments': '{\"query\":\"weather in sf\"}', 'name': 'tavily_search_results_json'}, 'type': 'function'}]}, response_metadata={'token_usage': {'completion_tokens': 98, 'prompt_tokens': 1284, 'total_tokens': 1382, 'completion_time': 0.157360117, 'prompt_time': 0.076853328, 'queue_time': 0.0017755849999999962, 'total_time': 0.234213445}, 'model_name': 'mixtral-8x7b-32768', 'system_fingerprint': 'fp_c5f20b5bb1', 'finish_reason': 'tool_calls', 'logprobs': None}, id='run-f47bcde8-c8fd-4e90-933a-4535a1af5e36-0', tool_calls=[{'name': 'tavily_search_results_json', 'args': {'query': 'weather in sf'}, 'id': 'call_zqw2', 'type': 'tool_call'}], usage_metadata={'input_tokens': 1284, 'output_tokens': 98, 'total_tokens': 1382}),\n",
       "  ToolMessage(content='[{\\'url\\': \\'https://www.weatherapi.com/\\', \\'content\\': \"{\\'location\\': {\\'name\\': \\'San Francisco\\', \\'region\\': \\'California\\', \\'country\\': \\'United States of America\\', \\'lat\\': 37.78, \\'lon\\': -122.42, \\'tz_id\\': \\'America/Los_Angeles\\', \\'localtime_epoch\\': 1727073857, \\'localtime\\': \\'2024-09-22 23:44\\'}, \\'current\\': {\\'last_updated_epoch\\': 1727073000, \\'last_updated\\': \\'2024-09-22 23:30\\', \\'temp_c\\': 13.9, \\'temp_f\\': 57.0, \\'is_day\\': 0, \\'condition\\': {\\'text\\': \\'Partly cloudy\\', \\'icon\\': \\'//cdn.weatherapi.com/weather/64x64/night/116.png\\', \\'code\\': 1003}, \\'wind_mph\\': 4.5, \\'wind_kph\\': 7.2, \\'wind_degree\\': 223, \\'wind_dir\\': \\'SW\\', \\'pressure_mb\\': 1013.0, \\'pressure_in\\': 29.9, \\'precip_mm\\': 0.0, \\'precip_in\\': 0.0, \\'humidity\\': 93, \\'cloud\\': 25, \\'feelslike_c\\': 13.7, \\'feelslike_f\\': 56.7, \\'windchill_c\\': 10.7, \\'windchill_f\\': 51.2, \\'heatindex_c\\': 11.6, \\'heatindex_f\\': 52.9, \\'dewpoint_c\\': 11.1, \\'dewpoint_f\\': 52.0, \\'vis_km\\': 16.0, \\'vis_miles\\': 9.0, \\'uv\\': 1.0, \\'gust_mph\\': 8.4, \\'gust_kph\\': 13.5}}\"}, {\\'url\\': \\'https://www.meteoprog.com/weather/Sanfrancisco/month/september/\\', \\'content\\': \\'San Francisco (United States) weather in September 2024 ☀️ Accurate weather forecast for San Francisco in September ⛅ Detailed forecast By month Current temperature \"near me\" Weather news ⊳ Widget of weather ⊳ Water temperature | METEOPROG\\'}, {\\'url\\': \\'https://www.timeanddate.com/weather/usa/san-francisco/hourly\\', \\'content\\': \\'Hour-by-Hour Forecast for San Francisco, California, USA. Currently: 60 °F. Partly sunny. (Weather station: San Francisco International Airport, USA). See more current weather.\\'}, {\\'url\\': \\'https://weatherspark.com/h/m/557/2024/9/Historical-Weather-in-September-2024-in-San-Francisco-California-United-States\\', \\'content\\': \\'San Francisco September 2024 Historical Weather Data (California, United States) - Weather Spark September 2024 Weather History in San Francisco California, United States This report shows the past weather for San Francisco, providing a weather history for September 2024. It features all historical weather data series we have available, including the San Francisco temperature history for September 2024. San Francisco Temperature History September 2024 Hourly Temperature in September 2024 in San Francisco Observed Weather in September 2024 in San Francisco Hours of Daylight and Twilight in September 2024 in San Francisco Humidity Comfort Levels in September 2024 in San Francisco Wind Speed in September 2024 in San Francisco Hourly Wind Speed in September 2024 in San Francisco\\'}]', name='tavily_search_results_json', tool_call_id='call_zqw2'),\n",
       "  AIMessage(content='The current weather in San Francisco is partly cloudy with a temperature of 13.9 degrees Celsius (57 degrees Fahrenheit). The wind is coming from the southwest at a speed of 4.5 miles per hour (7.2 kilometers per hour). The humidity is at 93%.', additional_kwargs={}, response_metadata={'token_usage': {'completion_tokens': 69, 'prompt_tokens': 2319, 'total_tokens': 2388, 'completion_time': 0.110462093, 'prompt_time': 0.151974328, 'queue_time': 0.00114782300000002, 'total_time': 0.262436421}, 'model_name': 'mixtral-8x7b-32768', 'system_fingerprint': 'fp_c5f20b5bb1', 'finish_reason': 'stop', 'logprobs': None}, id='run-6d70c5c7-4b46-4998-b4b4-f95fcc40d83f-0', usage_metadata={'input_tokens': 2319, 'output_tokens': 69, 'total_tokens': 2388})]}"
      ]
     },
     "execution_count": 24,
     "metadata": {},
     "output_type": "execute_result"
    }
   ],
   "source": [
    "result"
   ]
  },
  {
   "cell_type": "code",
   "execution_count": 26,
   "id": "8384e6b3",
   "metadata": {},
   "outputs": [
    {
     "name": "stdout",
     "output_type": "stream",
     "text": [
      "[AIMessage(content='The current weather in San Francisco is still partly cloudy with a temperature of 22.2 degrees Celsius (72.0 degrees Fahrenheit). The wind is coming from the west-southwest at a speed of 3.6 miles per hour (5.8 kilometers per hour). The humidity is at 57% and it is not daytime. This information was obtained from the first URL provided by the tool in our previous conversation.', additional_kwargs={}, response_metadata={'token_usage': {'completion_tokens': 87, 'prompt_tokens': 2147, 'total_tokens': 2234, 'completion_time': 0.116, 'prompt_time': 0.461242568, 'queue_time': 0.002733727999999991, 'total_time': 0.577242568}, 'model_name': 'llama-3.1-8b-instant', 'system_fingerprint': 'fp_9cb648b966', 'finish_reason': 'stop', 'logprobs': None}, id='run-6f07ba5a-e253-40f1-8110-5d758f926d8c-0', usage_metadata={'input_tokens': 2147, 'output_tokens': 87, 'total_tokens': 2234})]\n"
     ]
    }
   ],
   "source": [
    "thread = {\"configurable\": {\"thread_id\": \"1\"}}\n",
    "for event in abot.graph.stream({\"messages\": messages}, thread):\n",
    "    for v in event.values():\n",
    "        print(v['messages'])"
   ]
  },
  {
   "cell_type": "code",
   "execution_count": 27,
   "id": "e067e178",
   "metadata": {},
   "outputs": [
    {
     "name": "stdout",
     "output_type": "stream",
     "text": [
      "{'messages': [AIMessage(content='The current weather in Los Angeles is still misty with a temperature of 17.8 degrees Celsius (64.0 degrees Fahrenheit). The wind is coming from the south-southeast at a speed of 4.0 miles per hour (6.5 kilometers per hour). The humidity is at 93% and it is not daytime. This information was obtained from the first URL provided by the tool in our previous conversation.', additional_kwargs={}, response_metadata={'token_usage': {'completion_tokens': 87, 'prompt_tokens': 2248, 'total_tokens': 2335, 'completion_time': 0.116, 'prompt_time': 0.467402269, 'queue_time': 0.6734482610000001, 'total_time': 0.583402269}, 'model_name': 'llama-3.1-8b-instant', 'system_fingerprint': 'fp_9cb648b966', 'finish_reason': 'stop', 'logprobs': None}, id='run-78cc6da2-8c2c-41e8-90e0-ce92adc89624-0', usage_metadata={'input_tokens': 2248, 'output_tokens': 87, 'total_tokens': 2335})]}\n"
     ]
    }
   ],
   "source": [
    "messages = [HumanMessage(content=\"What about in la?\")]\n",
    "thread = {\"configurable\": {\"thread_id\": \"1\"}}\n",
    "for event in abot.graph.stream({\"messages\": messages}, thread):\n",
    "    for v in event.values():\n",
    "        print(v)"
   ]
  },
  {
   "cell_type": "code",
   "execution_count": 28,
   "id": "3bdc6066",
   "metadata": {},
   "outputs": [
    {
     "name": "stdout",
     "output_type": "stream",
     "text": [
      "{'messages': [AIMessage(content='San Francisco is warmer with a current temperature of 22.2 degrees Celsius (72.0 degrees Fahrenheit), compared to Los Angeles with a current temperature of 17.8 degrees Celsius (64.0 degrees Fahrenheit).', additional_kwargs={}, response_metadata={'token_usage': {'completion_tokens': 45, 'prompt_tokens': 2349, 'total_tokens': 2394, 'completion_time': 0.06, 'prompt_time': 0.482429749, 'queue_time': 0.0032284320000000033, 'total_time': 0.542429749}, 'model_name': 'llama-3.1-8b-instant', 'system_fingerprint': 'fp_9cb648b966', 'finish_reason': 'stop', 'logprobs': None}, id='run-308926a1-a7ba-4279-925f-6d443c6b154e-0', usage_metadata={'input_tokens': 2349, 'output_tokens': 45, 'total_tokens': 2394})]}\n"
     ]
    }
   ],
   "source": [
    "messages = [HumanMessage(content=\"Which one is warmer?\")]\n",
    "thread = {\"configurable\": {\"thread_id\": \"1\"}}\n",
    "for event in abot.graph.stream({\"messages\": messages}, thread):\n",
    "    for v in event.values():\n",
    "        print(v)"
   ]
  },
  {
   "cell_type": "code",
   "execution_count": 48,
   "id": "9fd8b92a",
   "metadata": {},
   "outputs": [
    {
     "name": "stdout",
     "output_type": "stream",
     "text": [
      "{'messages': [AIMessage(content='', additional_kwargs={'tool_calls': [{'id': 'call_k19b', 'function': {'arguments': '{\"query\":\"which one is warmer, the sun or a stove?\"}', 'name': 'tavily_search_results_json'}, 'type': 'function'}]}, response_metadata={'token_usage': {'completion_tokens': 105, 'prompt_tokens': 1283, 'total_tokens': 1388, 'completion_time': 0.168536421, 'prompt_time': 0.066607603, 'queue_time': 0.0008861169999999918, 'total_time': 0.235144024}, 'model_name': 'mixtral-8x7b-32768', 'system_fingerprint': 'fp_c5f20b5bb1', 'finish_reason': 'tool_calls', 'logprobs': None}, id='run-7a10a391-88ea-45ea-8af7-d55282c12f5f-0', tool_calls=[{'name': 'tavily_search_results_json', 'args': {'query': 'which one is warmer, the sun or a stove?'}, 'id': 'call_k19b', 'type': 'tool_call'}], usage_metadata={'input_tokens': 1283, 'output_tokens': 105, 'total_tokens': 1388})]}\n",
      "Calling: {'name': 'tavily_search_results_json', 'args': {'query': 'which one is warmer, the sun or a stove?'}, 'id': 'call_k19b', 'type': 'tool_call'}\n",
      "Back to the model!\n",
      "{'messages': [ToolMessage(content='[{\\'url\\': \\'https://letstalkscience.ca/educational-resources/backgrounders/introduction-heat-transfer\\', \\'content\\': \"You can boil water on the stove, rub your hands together quickly, or stand in front of a fire. ... Heat is thermal energy that is moving from one place to another. Heat flows from warmer objects to cooler objects. ... Thermal radiation is the way that the Sun heats the Earth. The Sun\\'s energy travels in waves through space, not through atoms ...\"}, {\\'url\\': \\'https://study.com/academy/lesson/mechanisms-of-heat-transfer-conduction-convection-radiation.html\\', \\'content\\': \\'The sun is a primary example of thermal radiation on Earth. The rays from the sun travel through space and heat Earth, warming it. Another example of radiation can be seen sitting next to a fire.\\'}, {\\'url\\': \\'https://physics.stackexchange.com/questions/62423/example-of-situation-with-conduction-convection-and-radiation\\', \\'content\\': \\'Touching a stove and being burned; Ice cooling down your hand; Boiling water by thrusting a red-hot piece of iron into it; Convection: Hot air rising, cooling, and falling (convection currents) An old-fashioned radiator (creates a convection cell in a room by emitting warm air at the top and drawing in cool air at the bottom). Radiation:\\'}, {\\'url\\': \\'https://quizlet.com/359882649/thermal-energy-flash-cards/\\', \\'content\\': \\'Walking on the warm sand sand with your bare feet demonstrates this type of heat transfer. Conduction. Near the ceiling of a room the air is warmer. The warm air rises because of. Convection. You get sunburned due to __________ from the sun. Radiation. A chair is placed several feet from a fireplace. The fireplace has a glass screen.\\'}]', name='tavily_search_results_json', tool_call_id='call_k19b')]}\n",
      "{'messages': [AIMessage(content=\"The sun is warmer than a stove due to thermal radiation. The sun's energy travels through space in waves and warms the Earth, while a stove transfers heat through conduction and convection.\", additional_kwargs={}, response_metadata={'token_usage': {'completion_tokens': 43, 'prompt_tokens': 1839, 'total_tokens': 1882, 'completion_time': 0.068090332, 'prompt_time': 0.07987793, 'queue_time': 0.0011250680000000068, 'total_time': 0.147968262}, 'model_name': 'mixtral-8x7b-32768', 'system_fingerprint': 'fp_c5f20b5bb1', 'finish_reason': 'stop', 'logprobs': None}, id='run-150fe94f-ed50-468b-a264-2e9873c7ced3-0', usage_metadata={'input_tokens': 1839, 'output_tokens': 43, 'total_tokens': 1882})]}\n"
     ]
    }
   ],
   "source": [
    "messages = [HumanMessage(content=\"Which one is warmer?\")]\n",
    "thread = {\"configurable\": {\"thread_id\": \"2\"}}\n",
    "for event in abot.graph.stream({\"messages\": messages}, thread):\n",
    "    for v in event.values():\n",
    "        print(v)"
   ]
  },
  {
   "cell_type": "code",
   "execution_count": 30,
   "id": "84f65759",
   "metadata": {},
   "outputs": [
    {
     "name": "stdout",
     "output_type": "stream",
     "text": [
      "Calling: {'name': 'tavily_search_results_json', 'args': {'query': 'San Francisco weather today now'}, 'id': 'call_z089', 'type': 'tool_call'}\n",
      "Back to the model!\n",
      "[{'url': 'https://www.weatherapi.com/', 'content': \"{'location': {'name': 'San Francisco', 'region': 'California', 'country': 'United States of America', 'lat': 37.78, 'lon': -122.42, 'tz_id': 'America/Los_Angeles', 'localtime_epoch': 1727153442, 'localtime': '2024-09-23 21:50'}, 'current': {'last_updated_epoch': 1727153100, 'last_updated': '2024-09-23 21:45', 'temp_c': 22.2, 'temp_f': 72.0, 'is_day': 0, 'condition': {'text': 'Partly cloudy', 'icon': '//cdn.weatherapi.com/weather/64x64/night/116.png', 'code': 1003}, 'wind_mph': 3.6, 'wind_kph': 5.8, 'wind_degree': 250, 'wind_dir': 'WSW', 'pressure_mb': 1009.0, 'pressure_in': 29.79, 'precip_mm': 0.0, 'precip_in': 0.0, 'humidity': 57, 'cloud': 25, 'feelslike_c': 24.6, 'feelslike_f': 76.3, 'windchill_c': 15.3, 'windchill_f': 59.5, 'heatindex_c': 15.3, 'heatindex_f': 59.6, 'dewpoint_c': 12.9, 'dewpoint_f': 55.2, 'vis_km': 16.0, 'vis_miles': 9.0, 'uv': 1.0, 'gust_mph': 7.5, 'gust_kph': 12.1}}\"}, {'url': 'https://www.weather25.com/north-america/usa/california/san-francisco?page=month&month=September', 'content': 'Full weather forecast for San Francisco in September 2024. Check the temperatures, chance of rain and more in San Francisco during September. ... San Francisco weather in September 2024. ... 20 ° / 13 ° Saturday. Sep 21. 0 mm. 21 ° / 14 ° Sunday. Sep 22. 0 mm. 21 ° / 14 ° Monday. Sep 23. 0 mm. 24 ° / 15 ° Tuesday. Sep 24. 0 mm. 22 ...'}, {'url': 'https://www.weathertab.com/en/d/e/09/united-states/california/san-francisco/', 'content': 'Free Long Range Weather Forecast for San Francisco, California September 2024. Focused Daily Weather, Temperature, Sunrise, Sunset, and Moonphase Forecasts. Enter any city, zip or place. °F °C. Help > United States San ... September 2024 Sep 2024.'}, {'url': 'https://www.weathertab.com/en/c/e/09/united-states/california/san-francisco/', 'content': 'Explore comprehensive September 2024 weather forecasts for San Francisco, including daily high and low temperatures, precipitation risks, and monthly temperature trends. Featuring detailed day-by-day forecasts, dynamic graphs of daily rain probabilities, and temperature trends to help you plan ahead.'}]|The current weather in San Francisco is partly cloudy with a temperature of 22.2 degrees Celsius (72.0 degrees Fahrenheit) as of 21:45 on September 23, 2024.|"
     ]
    }
   ],
   "source": [
    "from langchain_core.messages import AIMessageChunk, HumanMessage\n",
    "\n",
    "messages = [HumanMessage(content=\"What is the weather in SF today now?\")]\n",
    "thread = {\"configurable\": {\"thread_id\": \"4\"}}\n",
    "async for msg, metadata in abot.graph.astream({\"messages\": messages}, thread,  stream_mode=\"messages\"):\n",
    "    if msg.content and not isinstance(msg,HumanMessage):\n",
    "        print(msg.content, end=\"|\", flush=True)\n",
    "\n",
    "    if isinstance(msg, AIMessageChunk):\n",
    "        if first:\n",
    "            gathered = msg\n",
    "            first = False\n",
    "        else:\n",
    "            gathered = gathered + msg\n",
    "\n",
    "        if msg.tool_call_chunks:\n",
    "            print(gathered.tool_calls)\n",
    "\n"
   ]
  },
  {
   "cell_type": "code",
   "execution_count": 21,
   "id": "dc3293b7-a50c-43c8-a022-8975e1e444b8",
   "metadata": {
    "height": 62
   },
   "outputs": [
    {
     "name": "stdout",
     "output_type": "stream",
     "text": [
      "Calling: {'name': 'tavily_search_results_json', 'args': {'query': 'weather in SF and LA'}, 'id': 'call_768r', 'type': 'tool_call'}\n",
      "Back to the model!\n"
     ]
    }
   ],
   "source": [
    "messages = [HumanMessage(content=\"What is the weather in SF and LA?\")]\n",
    "result = abot.graph.invoke({\"messages\": messages}, thread)"
   ]
  },
  {
   "cell_type": "code",
   "execution_count": 22,
   "id": "0722c3d4-4cbf-43bf-81b0-50f634c4ce61",
   "metadata": {
    "height": 30
   },
   "outputs": [
    {
     "data": {
      "text/plain": [
       "\"The current weather in San Francisco is partly cloudy with a temperature of 22.8 degrees Celsius (73.0 degrees Fahrenheit) as of 21:15 on September 23, 2024. I couldn't find any recent weather information for Los Angeles. However, the weather in San Francisco is currently partly cloudy.\""
      ]
     },
     "execution_count": 22,
     "metadata": {},
     "output_type": "execute_result"
    }
   ],
   "source": [
    "result['messages'][-1].content"
   ]
  },
  {
   "cell_type": "code",
   "execution_count": null,
   "id": "6b2f82fe-3ec4-4917-be51-9fb10d1317fa",
   "metadata": {
    "height": 198
   },
   "outputs": [],
   "source": [
    "# Note, the query was modified to produce more consistent results. \n",
    "# Results may vary per run and over time as search information and models change.\n",
    "\n",
    "query = \"Who won the super bowl in 2024? In what state is the winning team headquarters located? \\\n",
    "What is the GDP of that state? Answer each question.\" \n",
    "messages = [HumanMessage(content=query)]\n",
    "\n",
    "abot = Agent(model, [tool], system=prompt)\n",
    "result = abot.graph.invoke({\"messages\": messages})"
   ]
  },
  {
   "cell_type": "code",
   "execution_count": 29,
   "id": "ee0fe1c7-77e2-499c-a2f9-1f739bb6ddf0",
   "metadata": {
    "height": 30
   },
   "outputs": [
    {
     "name": "stdout",
     "output_type": "stream",
     "text": [
      "The Kansas City Chiefs won Super Bowl 2024. Their headquarters are located in Missouri. According to the US Bureau of Economic Analysis, Missouri's Gross Domestic Product (GDP) for 2024 was approximately 355.6 billion US dollars.\n"
     ]
    }
   ],
   "source": [
    "print(result['messages'][-1].content)"
   ]
  },
  {
   "cell_type": "code",
   "execution_count": null,
   "id": "1d643182-2802-40fb-ba35-d4f893c5b976",
   "metadata": {
    "height": 30
   },
   "outputs": [],
   "source": []
  }
 ],
 "metadata": {
  "kernelspec": {
   "display_name": "Python 3 (ipykernel)",
   "language": "python",
   "name": "python3"
  },
  "language_info": {
   "codemirror_mode": {
    "name": "ipython",
    "version": 3
   },
   "file_extension": ".py",
   "mimetype": "text/x-python",
   "name": "python",
   "nbconvert_exporter": "python",
   "pygments_lexer": "ipython3",
   "version": "3.10.14"
  }
 },
 "nbformat": 4,
 "nbformat_minor": 5
}
