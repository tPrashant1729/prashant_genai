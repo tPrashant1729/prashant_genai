{
 "cells": [
  {
   "cell_type": "code",
   "execution_count": null,
   "metadata": {},
   "outputs": [],
   "source": [
    "import websocket  \n",
    "import uuid\n",
    "import json\n",
    "import urllib.request\n",
    "import urllib.parse\n",
    "import random\n",
    "from requests_toolbelt.multipart.encoder import MultipartEncoder\n",
    "import os, io"
   ]
  },
  {
   "cell_type": "code",
   "execution_count": null,
   "metadata": {},
   "outputs": [],
   "source": [
    "def open_websocket_connection():\n",
    "  server_address='127.0.0.1:8188'\n",
    "  client_id=str(uuid.uuid4())\n",
    "  ws = websocket.WebSocket()\n",
    "  ws.connect(\"ws://{}/ws?clientId={}\".format(server_address, client_id))\n",
    "  return ws, server_address, client_id"
   ]
  },
  {
   "cell_type": "code",
   "execution_count": null,
   "metadata": {},
   "outputs": [],
   "source": [
    "def queue_prompt(prompt, client_id, server_address):\n",
    "  p = {\"prompt\": prompt, \"client_id\": client_id}\n",
    "  headers = {'Content-Type': 'application/json'}\n",
    "  data = json.dumps(p).encode('utf-8')\n",
    "  req =  urllib.request.Request(\"http://{}/prompt\".format(server_address), data=data, headers=headers)\n",
    "  return json.loads(urllib.request.urlopen(req).read())"
   ]
  },
  {
   "cell_type": "code",
   "execution_count": null,
   "metadata": {},
   "outputs": [],
   "source": [
    "def get_history(prompt_id, server_address):\n",
    "  with urllib.request.urlopen(\"http://{}/history/{}\".format(server_address, prompt_id)) as response:\n",
    "      return json.loads(response.read())"
   ]
  },
  {
   "cell_type": "code",
   "execution_count": null,
   "metadata": {},
   "outputs": [],
   "source": [
    "def get_image(filename, subfolder, folder_type, server_address):\n",
    "  data = {\"filename\": filename, \"subfolder\": subfolder, \"type\": folder_type}\n",
    "  url_values = urllib.parse.urlencode(data)\n",
    "  with urllib.request.urlopen(\"http://{}/view?{}\".format(server_address, url_values)) as response:\n",
    "      return response.read()"
   ]
  },
  {
   "cell_type": "code",
   "execution_count": null,
   "metadata": {},
   "outputs": [],
   "source": [
    "def upload_image(input_path, name, server_address, image_type=\"input\", overwrite=False):\n",
    "  with open(input_path, 'rb') as file:\n",
    "    multipart_data = MultipartEncoder(\n",
    "      fields= {\n",
    "        'image': (name, file, 'image/png'),\n",
    "        'type': image_type,\n",
    "        'overwrite': str(overwrite).lower()\n",
    "      }\n",
    "    )\n",
    "\n",
    "    data = multipart_data\n",
    "    headers = { 'Content-Type': multipart_data.content_type }\n",
    "    request = urllib.request.Request(\"http://{}/upload/image\".format(server_address), data=data, headers=headers)\n",
    "    with urllib.request.urlopen(request) as response:\n",
    "      return response.read()"
   ]
  },
  {
   "cell_type": "code",
   "execution_count": null,
   "metadata": {},
   "outputs": [],
   "source": [
    "def load_workflow(workflow_path):\n",
    "  try:\n",
    "      with open(workflow_path, 'r') as file:\n",
    "          workflow = json.load(file)\n",
    "          return json.dumps(workflow)\n",
    "  except FileNotFoundError:\n",
    "      print(f\"The file {workflow_path} was not found.\")\n",
    "      return None\n",
    "  except json.JSONDecodeError:\n",
    "      print(f\"The file {workflow_path} contains invalid JSON.\")\n",
    "      return None"
   ]
  },
  {
   "cell_type": "code",
   "execution_count": null,
   "metadata": {},
   "outputs": [],
   "source": [
    "def track_progress(prompt, ws, prompt_id):\n",
    "  node_ids = list(prompt.keys())\n",
    "  finished_nodes = []\n",
    "\n",
    "  while True:\n",
    "      out = ws.recv()\n",
    "      if isinstance(out, str):\n",
    "          message = json.loads(out)\n",
    "          if message['type'] == 'progress':\n",
    "              data = message['data']\n",
    "              current_step = data['value']\n",
    "              print('In K-Sampler -> Step: ', current_step, ' of: ', data['max'])\n",
    "          if message['type'] == 'execution_cached':\n",
    "              data = message['data']\n",
    "              for itm in data['nodes']:\n",
    "                  if itm not in finished_nodes:\n",
    "                      finished_nodes.append(itm)\n",
    "                      print('Progess: ', len(finished_nodes), '/', len(node_ids), ' Tasks done')\n",
    "          if message['type'] == 'executing':\n",
    "              data = message['data']\n",
    "              if data['node'] not in finished_nodes:\n",
    "                  finished_nodes.append(data['node'])\n",
    "                  print('Progess: ', len(finished_nodes), '/', len(node_ids), ' Tasks done')\n",
    "\n",
    "              if data['node'] is None and data['prompt_id'] == prompt_id:\n",
    "                  break #Execution is done\n",
    "      else:\n",
    "          continue\n",
    "  return"
   ]
  },
  {
   "cell_type": "code",
   "execution_count": null,
   "metadata": {},
   "outputs": [],
   "source": [
    "def get_images(prompt_id, server_address, allow_preview = False):\n",
    "  output_images = []\n",
    "\n",
    "  history = get_history(prompt_id, server_address)[prompt_id]\n",
    "  for node_id in history['outputs']:\n",
    "      node_output = history['outputs'][node_id]\n",
    "      output_data = {}\n",
    "      if 'images' in node_output:\n",
    "          for image in node_output['images']:\n",
    "              if allow_preview and image['type'] == 'temp':\n",
    "                  preview_data = get_image(image['filename'], image['subfolder'], image['type'], server_address)\n",
    "                  output_data['image_data'] = preview_data\n",
    "              if image['type'] == 'output':\n",
    "                  image_data = get_image(image['filename'], image['subfolder'], image['type'], server_address)\n",
    "                  output_data['image_data'] = image_data\n",
    "      output_data['file_name'] = image['filename']\n",
    "      output_data['type'] = image['type']\n",
    "      output_images.append(output_data)\n",
    "\n",
    "  return output_images\n",
    "\n",
    "def save_image(images, output_path, save_previews):\n",
    "  for itm in images:\n",
    "      directory = os.path.join(output_path, 'temp/') if itm['type'] == 'temp' and save_previews else output_path\n",
    "      os.makedirs(directory, exist_ok=True)\n",
    "      try:\n",
    "          image = Image.open(io.BytesIO(itm['image_data']))\n",
    "          image.save(os.path.join(directory, itm['file_name']))\n",
    "      except Exception as e:\n",
    "          print(f\"Failed to save image {itm['file_name']}: {e}\")  "
   ]
  },
  {
   "cell_type": "code",
   "execution_count": null,
   "metadata": {},
   "outputs": [],
   "source": [
    "def generate_image_by_prompt(prompt, output_path, save_previews=False):\n",
    "  try:\n",
    "    ws, server_address, client_id = open_websocket_connection()\n",
    "    prompt_id = queue_prompt(prompt, client_id, server_address)['prompt_id']\n",
    "    track_progress(prompt, ws, prompt_id)\n",
    "    images = get_images(prompt_id, server_address, save_previews)\n",
    "    save_image(images, output_path, save_previews)\n",
    "  finally:\n",
    "    ws.close()"
   ]
  },
  {
   "cell_type": "code",
   "execution_count": null,
   "metadata": {},
   "outputs": [],
   "source": [
    "def prompt_to_image(workflow, positve_prompt, negative_prompt='', save_previews=False):\n",
    "  prompt = json.loads(workflow)\n",
    "  id_to_class_type = {id: details['class_type'] for id, details in prompt.items()}\n",
    "  k_sampler = [key for key, value in id_to_class_type.items() if value == 'KSampler'][0]\n",
    "  prompt.get(k_sampler)['inputs']['seed'] = random.randint(10**14, 10**15 - 1)\n",
    "  postive_input_id = prompt.get(k_sampler)['inputs']['positive'][0]\n",
    "  prompt.get(postive_input_id)['inputs']['text'] = positve_prompt\n",
    "\n",
    "  if negative_prompt != '':\n",
    "    negative_input_id = prompt.get(k_sampler)['inputs']['negative'][0]\n",
    "    prompt.get(negative_input_id)['inputs']['text'] = negative_prompt\n",
    "\n",
    "  generate_image_by_prompt(prompt, './output/', save_previews)"
   ]
  }
 ],
 "metadata": {
  "kernelspec": {
   "display_name": "comfyui",
   "language": "python",
   "name": "python3"
  },
  "language_info": {
   "name": "python",
   "version": "3.10.14"
  }
 },
 "nbformat": 4,
 "nbformat_minor": 2
}
