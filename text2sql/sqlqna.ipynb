{
 "cells": [
  {
   "cell_type": "code",
   "execution_count": 1,
   "metadata": {},
   "outputs": [],
   "source": [
    "from langchain_groq import ChatGroq\n",
    "from dotenv import load_dotenv\n",
    "import os\n",
    "load_dotenv()\n",
    "from pprint import pprint"
   ]
  },
  {
   "cell_type": "code",
   "execution_count": 2,
   "metadata": {},
   "outputs": [],
   "source": [
    "groq_api_key = os.environ.get('GROQ_API_KEY')\n"
   ]
  },
  {
   "cell_type": "code",
   "execution_count": 3,
   "metadata": {},
   "outputs": [
    {
     "name": "stdout",
     "output_type": "stream",
     "text": [
      "sqlite\n",
      "['Album', 'Artist', 'Customer', 'Employee', 'Genre', 'Invoice', 'InvoiceLine', 'MediaType', 'Playlist', 'PlaylistTrack', 'Track']\n"
     ]
    },
    {
     "data": {
      "text/plain": [
       "\"[(1, 'AC/DC'), (2, 'Accept'), (3, 'Aerosmith'), (4, 'Alanis Morissette'), (5, 'Alice In Chains'), (6, 'Antônio Carlos Jobim'), (7, 'Apocalyptica'), (8, 'Audioslave'), (9, 'BackBeat'), (10, 'Billy Cobham')]\""
      ]
     },
     "execution_count": 3,
     "metadata": {},
     "output_type": "execute_result"
    }
   ],
   "source": [
    "from langchain_community.utilities import SQLDatabase\n",
    "\n",
    "db = SQLDatabase.from_uri(\"sqlite:///Chinook.db\")\n",
    "print(db.dialect)\n",
    "print(db.get_usable_table_names())\n",
    "db.run(\"SELECT * FROM Artist LIMIT 10;\")"
   ]
  },
  {
   "cell_type": "code",
   "execution_count": 4,
   "metadata": {},
   "outputs": [],
   "source": [
    "from langchain.chains import create_sql_query_chain\n",
    "\n",
    "llm = ChatGroq(model=\"llama-3.3-70b-versatile\")\n",
    "chain = create_sql_query_chain(llm, db)\n",
    "response = chain.invoke({\"question\": \"How many Genre are there and who is the best artist in each genre?, do not use limit function in query\"})\n",
    "from langchain_core.output_parsers import StrOutputParser\n",
    "parser = StrOutputParser()\n",
    "parsed = parser.parse(response)"
   ]
  },
  {
   "cell_type": "code",
   "execution_count": 5,
   "metadata": {},
   "outputs": [
    {
     "name": "stdout",
     "output_type": "stream",
     "text": [
      "To answer this question, we need to find out the number of genres and the best artist in each genre. \n",
      "\n",
      "First, let's find out the number of genres. We can do this by querying the \"Genre\" table.\n",
      "\n",
      "```sql\n",
      "SELECT COUNT(\"GenreId\") \n",
      "FROM \"Genre\"\n",
      "```\n",
      "\n",
      "To find out the best artist in each genre, we need to join the \"Genre\", \"Track\", and \"Album\" tables.\n",
      "\n",
      "```sql\n",
      "SELECT \"G\".\"Name\" AS \"GenreName\", \"A\".\"Name\" AS \"BestArtist\" \n",
      "FROM \"Genre\" \"G\" \n",
      "JOIN \"Track\" \"T\" ON \"G\".\"GenreId\" = \"T\".\"GenreId\" \n",
      "JOIN \"Album\" \"AL\" ON \"T\".\"AlbumId\" = \"AL\".\"AlbumId\" \n",
      "JOIN \"Artist\" \"A\" ON \"AL\".\"ArtistId\" = \"A\".\"ArtistId\"\n",
      "```\n",
      "\n",
      "However, this query will return all artists in each genre, not the best artist. To find the best artist, we need to define what \"best\" means. Let's assume the best artist is the one with the most tracks in a genre.\n",
      "\n",
      "```sql\n",
      "SELECT \"G\".\"Name\" AS \"GenreName\", \"A\".\"Name\" AS \"BestArtist\" \n",
      "FROM \"Genre\" \"G\" \n",
      "JOIN \"Track\" \"T\" ON \"G\".\"GenreId\" = \"T\".\"GenreId\" \n",
      "JOIN \"Album\" \"AL\" ON \"T\".\"AlbumId\" = \"AL\".\"AlbumId\" \n",
      "JOIN \"Artist\" \"A\" ON \"AL\".\"ArtistId\" = \"A\".\"ArtistId\"\n",
      "GROUP BY \"G\".\"Name\", \"A\".\"Name\"\n",
      "ORDER BY COUNT(\"T\".\"TrackId\") DESC\n",
      "```\n",
      "\n",
      "However, this query will still return multiple artists in each genre, because the ORDER BY clause is applied to the entire result set, not to each group. To fix this, we can use a subquery to find the best artist in each genre.\n",
      "\n",
      "```sql\n",
      "SELECT \"GenreName\", \"BestArtist\" \n",
      "FROM (\n",
      "    SELECT \"G\".\"Name\" AS \"GenreName\", \"A\".\"Name\" AS \"BestArtist\", \n",
      "    COUNT(\"T\".\"TrackId\") AS \"TrackCount\",\n",
      "    ROW_NUMBER() OVER (PARTITION BY \"G\".\"Name\" ORDER BY COUNT(\"T\".\"TrackId\") DESC) AS \"RowNum\"\n",
      "    FROM \"Genre\" \"G\" \n",
      "    JOIN \"Track\" \"T\" ON \"G\".\"GenreId\" = \"T\".\"GenreId\" \n",
      "    JOIN \"Album\" \"AL\" ON \"T\".\"AlbumId\" = \"AL\".\"AlbumId\" \n",
      "    JOIN \"Artist\" \"A\" ON \"AL\".\"ArtistId\" = \"A\".\"ArtistId\"\n",
      "    GROUP BY \"G\".\"Name\", \"A\".\"Name\"\n",
      ") AS \"Subquery\"\n",
      "WHERE \"RowNum\" = 1\n",
      "```\n",
      "\n",
      "Now, let's combine the two queries into one.\n",
      "\n",
      "```sql\n",
      "SELECT 'Number of Genres' AS \"Type\", COUNT(\"GenreId\") AS \"Value\" \n",
      "FROM \"Genre\"\n",
      "UNION ALL\n",
      "SELECT \"GenreName\" AS \"Type\", \"BestArtist\" AS \"Value\" \n",
      "FROM (\n",
      "    SELECT \"G\".\"Name\" AS \"GenreName\", \"A\".\"Name\" AS \"BestArtist\", \n",
      "    COUNT(\"T\".\"TrackId\") AS \"TrackCount\",\n",
      "    ROW_NUMBER() OVER (PARTITION BY \"G\".\"Name\" ORDER BY COUNT(\"T\".\"TrackId\") DESC) AS \"RowNum\"\n",
      "    FROM \"Genre\" \"G\" \n",
      "    JOIN \"Track\" \"T\" ON \"G\".\"GenreId\" = \"T\".\"GenreId\" \n",
      "    JOIN \"Album\" \"AL\" ON \"T\".\"AlbumId\" = \"AL\".\"AlbumId\" \n",
      "    JOIN \"Artist\" \"A\" ON \"AL\".\"ArtistId\" = \"A\".\"ArtistId\"\n",
      "    GROUP BY \"G\".\"Name\", \"A\".\"Name\"\n",
      ") AS \"Subquery\"\n",
      "WHERE \"RowNum\" = 1\n",
      "```\n",
      "\n",
      "SQLQuery: \n",
      "```sql\n",
      "SELECT 'Number of Genres' AS \"Type\", COUNT(\"GenreId\") AS \"Value\" \n",
      "FROM \"Genre\"\n",
      "UNION ALL\n",
      "SELECT \"GenreName\" AS \"Type\", \"BestArtist\" AS \"Value\" \n",
      "FROM (\n",
      "    SELECT \"G\".\"Name\" AS \"GenreName\", \"A\".\"Name\" AS \"BestArtist\", \n",
      "    COUNT(\"T\".\"TrackId\") AS \"TrackCount\",\n",
      "    ROW_NUMBER() OVER (PARTITION BY \"G\".\"Name\" ORDER BY COUNT(\"T\".\"TrackId\") DESC) AS \"RowNum\"\n",
      "    FROM \"Genre\" \"G\" \n",
      "    JOIN \"Track\" \"T\" ON \"G\".\"GenreId\" = \"T\".\"GenreId\" \n",
      "    JOIN \"Album\" \"AL\" ON \"T\".\"AlbumId\" = \"AL\".\"AlbumId\" \n",
      "    JOIN \"Artist\" \"A\" ON \"AL\".\"ArtistId\" = \"A\".\"ArtistId\"\n",
      "    GROUP BY \"G\".\"Name\", \"A\".\"Name\"\n",
      ") AS \"Subquery\"\n",
      "WHERE \"RowNum\" = 1\n",
      "```\n",
      "\n",
      "Now, let's execute this query and see the result.\n"
     ]
    }
   ],
   "source": [
    "print(parsed)"
   ]
  },
  {
   "cell_type": "code",
   "execution_count": 6,
   "metadata": {},
   "outputs": [
    {
     "name": "stdout",
     "output_type": "stream",
     "text": [
      "Query 1:\n",
      "SELECT COUNT(\"GenreId\") \n",
      "FROM \"Genre\"\n",
      "\n",
      "Query 2:\n",
      "SELECT \"G\".\"Name\" AS \"GenreName\", \"A\".\"Name\" AS \"BestArtist\" \n",
      "FROM \"Genre\" \"G\" \n",
      "JOIN \"Track\" \"T\" ON \"G\".\"GenreId\" = \"T\".\"GenreId\" \n",
      "JOIN \"Album\" \"AL\" ON \"T\".\"AlbumId\" = \"AL\".\"AlbumId\" \n",
      "JOIN \"Artist\" \"A\" ON \"AL\".\"ArtistId\" = \"A\".\"ArtistId\"\n",
      "\n",
      "Query 3:\n",
      "SELECT \"G\".\"Name\" AS \"GenreName\", \"A\".\"Name\" AS \"BestArtist\" \n",
      "FROM \"Genre\" \"G\" \n",
      "JOIN \"Track\" \"T\" ON \"G\".\"GenreId\" = \"T\".\"GenreId\" \n",
      "JOIN \"Album\" \"AL\" ON \"T\".\"AlbumId\" = \"AL\".\"AlbumId\" \n",
      "JOIN \"Artist\" \"A\" ON \"AL\".\"ArtistId\" = \"A\".\"ArtistId\"\n",
      "GROUP BY \"G\".\"Name\", \"A\".\"Name\"\n",
      "ORDER BY COUNT(\"T\".\"TrackId\") DESC\n",
      "\n",
      "Query 4:\n",
      "SELECT \"GenreName\", \"BestArtist\" \n",
      "FROM (\n",
      "    SELECT \"G\".\"Name\" AS \"GenreName\", \"A\".\"Name\" AS \"BestArtist\", \n",
      "    COUNT(\"T\".\"TrackId\") AS \"TrackCount\",\n",
      "    ROW_NUMBER() OVER (PARTITION BY \"G\".\"Name\" ORDER BY COUNT(\"T\".\"TrackId\") DESC) AS \"RowNum\"\n",
      "    FROM \"Genre\" \"G\" \n",
      "    JOIN \"Track\" \"T\" ON \"G\".\"GenreId\" = \"T\".\"GenreId\" \n",
      "    JOIN \"Album\" \"AL\" ON \"T\".\"AlbumId\" = \"AL\".\"AlbumId\" \n",
      "    JOIN \"Artist\" \"A\" ON \"AL\".\"ArtistId\" = \"A\".\"ArtistId\"\n",
      "    GROUP BY \"G\".\"Name\", \"A\".\"Name\"\n",
      ") AS \"Subquery\"\n",
      "WHERE \"RowNum\" = 1\n",
      "\n",
      "Query 5:\n",
      "SELECT 'Number of Genres' AS \"Type\", COUNT(\"GenreId\") AS \"Value\" \n",
      "FROM \"Genre\"\n",
      "UNION ALL\n",
      "SELECT \"GenreName\" AS \"Type\", \"BestArtist\" AS \"Value\" \n",
      "FROM (\n",
      "    SELECT \"G\".\"Name\" AS \"GenreName\", \"A\".\"Name\" AS \"BestArtist\", \n",
      "    COUNT(\"T\".\"TrackId\") AS \"TrackCount\",\n",
      "    ROW_NUMBER() OVER (PARTITION BY \"G\".\"Name\" ORDER BY COUNT(\"T\".\"TrackId\") DESC) AS \"RowNum\"\n",
      "    FROM \"Genre\" \"G\" \n",
      "    JOIN \"Track\" \"T\" ON \"G\".\"GenreId\" = \"T\".\"GenreId\" \n",
      "    JOIN \"Album\" \"AL\" ON \"T\".\"AlbumId\" = \"AL\".\"AlbumId\" \n",
      "    JOIN \"Artist\" \"A\" ON \"AL\".\"ArtistId\" = \"A\".\"ArtistId\"\n",
      "    GROUP BY \"G\".\"Name\", \"A\".\"Name\"\n",
      ") AS \"Subquery\"\n",
      "WHERE \"RowNum\" = 1\n",
      "\n",
      "Query 6:\n",
      "SELECT 'Number of Genres' AS \"Type\", COUNT(\"GenreId\") AS \"Value\" \n",
      "FROM \"Genre\"\n",
      "UNION ALL\n",
      "SELECT \"GenreName\" AS \"Type\", \"BestArtist\" AS \"Value\" \n",
      "FROM (\n",
      "    SELECT \"G\".\"Name\" AS \"GenreName\", \"A\".\"Name\" AS \"BestArtist\", \n",
      "    COUNT(\"T\".\"TrackId\") AS \"TrackCount\",\n",
      "    ROW_NUMBER() OVER (PARTITION BY \"G\".\"Name\" ORDER BY COUNT(\"T\".\"TrackId\") DESC) AS \"RowNum\"\n",
      "    FROM \"Genre\" \"G\" \n",
      "    JOIN \"Track\" \"T\" ON \"G\".\"GenreId\" = \"T\".\"GenreId\" \n",
      "    JOIN \"Album\" \"AL\" ON \"T\".\"AlbumId\" = \"AL\".\"AlbumId\" \n",
      "    JOIN \"Artist\" \"A\" ON \"AL\".\"ArtistId\" = \"A\".\"ArtistId\"\n",
      "    GROUP BY \"G\".\"Name\", \"A\".\"Name\"\n",
      ") AS \"Subquery\"\n",
      "WHERE \"RowNum\" = 1\n",
      "\n"
     ]
    }
   ],
   "source": [
    "import re\n",
    "\n",
    "def parse_query(parsed):\n",
    "    # Response text\n",
    "    response_text = parsed\n",
    "    \n",
    "    # Regex to find SQL code blocks\n",
    "    sql_blocks = re.findall(r\"```sql\\n(.*?)\\n```\", response_text, re.DOTALL)\n",
    "    \n",
    "    # Print or save the extracted SQL queries\n",
    "    for i, sql_query in enumerate(sql_blocks, start=1):\n",
    "        print(f\"Query {i}:\\n{sql_query}\\n\")\n",
    "    \n",
    "    return sql_blocks\n",
    "\n",
    "sql_blocks = parse_query(parsed)"
   ]
  },
  {
   "cell_type": "code",
   "execution_count": 7,
   "metadata": {},
   "outputs": [
    {
     "data": {
      "text/plain": [
       "6"
      ]
     },
     "execution_count": 7,
     "metadata": {},
     "output_type": "execute_result"
    }
   ],
   "source": [
    "len(sql_blocks)"
   ]
  },
  {
   "cell_type": "code",
   "execution_count": 8,
   "metadata": {},
   "outputs": [
    {
     "name": "stdout",
     "output_type": "stream",
     "text": [
      "[('Number of Genres', 25), ('Alternative', 'Chris Cornell'), ('Alternative & Punk', 'Titãs'), ('Blues', 'Eric Clapton'), ('Bossa Nova', 'Toquinho & Vinícius'), ('Classical', 'Eugene Ormandy'), ('Comedy', 'The Office'), ('Drama', 'Lost'), ('Easy Listening', 'Frank Sinatra'), ('Electronica/Dance', 'O Rappa'), ('Heavy Metal', 'Iron Maiden'), ('Hip Hop/Rap', 'House Of Pain'), ('Jazz', 'Miles Davis'), ('Latin', 'Os Paralamas Do Sucesso'), ('Metal', 'Metallica'), ('Opera', 'Sir Georg Solti, Sumi Jo & Wiener Philharmoniker'), ('Pop', 'U2'), ('R&B/Soul', 'James Brown'), ('Reggae', 'Cidade Negra'), ('Rock', 'Led Zeppelin'), ('Rock And Roll', 'BackBeat'), ('Sci Fi & Fantasy', 'Battlestar Galactica (Classic)'), ('Science Fiction', 'Battlestar Galactica'), ('Soundtrack', 'Various Artists'), ('TV Shows', 'Lost'), ('World', 'João Suplicy')]\n"
     ]
    }
   ],
   "source": [
    "# sql_blocks = []\n",
    "if sql_blocks:\n",
    "    # sql_blocks[-1]\n",
    "    try:\n",
    "        print(db.run(sql_blocks[-1]))\n",
    "    except Exception as e:\n",
    "        print(e)\n",
    "else: print(\"---\")"
   ]
  },
  {
   "cell_type": "code",
   "execution_count": 9,
   "metadata": {},
   "outputs": [
    {
     "name": "stdout",
     "output_type": "stream",
     "text": [
      "You are a SQLite expert. Given an input question, first create a syntactically correct SQLite query to run, then look at the results of the query and return the answer to the input question.\n",
      "Unless the user specifies in the question a specific number of examples to obtain, query for at most 5 results using the LIMIT clause as per SQLite. You can order the results to return the most informative data in the database.\n",
      "Never query for all columns from a table. You must query only the columns that are needed to answer the question. Wrap each column name in double quotes (\") to denote them as delimited identifiers.\n",
      "Pay attention to use only the column names you can see in the tables below. Be careful to not query for columns that do not exist. Also, pay attention to which column is in which table.\n",
      "Pay attention to use date('now') function to get the current date, if the question involves \"today\".\n",
      "\n",
      "Use the following format:\n",
      "\n",
      "Question: Question here\n",
      "SQLQuery: SQL Query to run\n",
      "SQLResult: Result of the SQLQuery\n",
      "Answer: Final answer here\n",
      "\n",
      "Only use the following tables:\n",
      "\u001b[33;1m\u001b[1;3m{table_info}\u001b[0m\n",
      "\n",
      "Question: \u001b[33;1m\u001b[1;3m{input}\u001b[0m\n"
     ]
    }
   ],
   "source": [
    "chain.get_prompts()[0].pretty_print()"
   ]
  },
  {
   "cell_type": "code",
   "execution_count": 10,
   "metadata": {},
   "outputs": [
    {
     "data": {
      "text/plain": [
       "'Question: How many employees are there\\nSQLQuery: SELECT COUNT(\"EmployeeId\") FROM \"Employee\"'"
      ]
     },
     "execution_count": 10,
     "metadata": {},
     "output_type": "execute_result"
    }
   ],
   "source": [
    "from langchain_community.tools import QuerySQLDatabaseTool\n",
    "\n",
    "execute_query = QuerySQLDatabaseTool(db=db)\n",
    "write_query = create_sql_query_chain(llm, db)\n",
    "chain = write_query\n",
    "parsed1 = parser.parse(chain.invoke({\"question\": \"How many employees are there\"})) #.split(':')[-1])\n",
    "# sql_blocks1 = parse_query(parsed1)\n",
    "# sql_blocks1\n",
    "parsed1"
   ]
  },
  {
   "cell_type": "code",
   "execution_count": 11,
   "metadata": {},
   "outputs": [
    {
     "data": {
      "text/plain": [
       "'[(8,)]'"
      ]
     },
     "execution_count": 11,
     "metadata": {},
     "output_type": "execute_result"
    }
   ],
   "source": [
    "db.run(' SELECT COUNT(\"EmployeeId\") FROM \"Employee\" LIMIT 1;')\n",
    "execute_query.invoke(chain.invoke({\"question\": \"How many employees are there\"})\n",
    "                     .split(':')[-1]\n",
    "                     )"
   ]
  },
  {
   "cell_type": "code",
   "execution_count": 12,
   "metadata": {},
   "outputs": [
    {
     "data": {
      "text/plain": [
       "{'question': 'How many employees are there',\n",
       " 'query': 'Question: How many employees are there\\nSQLQuery: SELECT COUNT(\"EmployeeId\") FROM \"Employee\"',\n",
       " 'result': 'Error: (sqlite3.OperationalError) near \"Question\": syntax error\\n[SQL: Question: How many employees are there\\nSQLQuery: SELECT COUNT(\"EmployeeId\") FROM \"Employee\"]\\n(Background on this error at: https://sqlalche.me/e/20/e3q8)'}"
      ]
     },
     "execution_count": 12,
     "metadata": {},
     "output_type": "execute_result"
    }
   ],
   "source": [
    "from operator import itemgetter\n",
    "\n",
    "from langchain_core.output_parsers import StrOutputParser\n",
    "from langchain_core.prompts import PromptTemplate\n",
    "from langchain_core.runnables import RunnablePassthrough\n",
    "\n",
    "answer_prompt = PromptTemplate.from_template(\n",
    "    \"\"\"Given the following user question, corresponding SQL query, and SQL result, answer the user question.\n",
    "\n",
    "        Question: {question}\n",
    "        SQL Query: {query}\n",
    "        SQL Result: {result}\n",
    "        Answer: \"\"\"\n",
    "    )\n",
    "\n",
    "answer = answer_prompt | llm | StrOutputParser()\n",
    "chain = (\n",
    "    RunnablePassthrough\n",
    "    .assign(query=write_query)\n",
    "    .assign(result=itemgetter(\"query\")\n",
    "        | execute_query \n",
    "    )\n",
    "    # | answer \n",
    ")\n",
    "\n",
    "\n",
    "chain.invoke({\"question\": \"How many employees are there\"})"
   ]
  },
  {
   "cell_type": "code",
   "execution_count": 13,
   "metadata": {},
   "outputs": [],
   "source": [
    "from langchain.chains import create_sql_query_chain\n",
    "db_chain = create_sql_query_chain(llm, db)\n",
    "response = db_chain.invoke({\"question\": \"How many employees are there ?\"})"
   ]
  },
  {
   "cell_type": "code",
   "execution_count": 14,
   "metadata": {},
   "outputs": [
    {
     "data": {
      "text/plain": [
       "'Question: How many employees are there ?\\nSQLQuery: SELECT COUNT(\"EmployeeId\") FROM \"Employee\"'"
      ]
     },
     "execution_count": 14,
     "metadata": {},
     "output_type": "execute_result"
    }
   ],
   "source": [
    "response"
   ]
  },
  {
   "cell_type": "code",
   "execution_count": 15,
   "metadata": {},
   "outputs": [],
   "source": [
    "cleaned_query = llm.invoke(f\"extract the final query syntax from this: {response} . No preamble , not any extra stuff.\")"
   ]
  },
  {
   "cell_type": "code",
   "execution_count": 16,
   "metadata": {},
   "outputs": [
    {
     "data": {
      "text/plain": [
       "'SELECT COUNT(\"EmployeeId\") FROM \"Employee\"'"
      ]
     },
     "execution_count": 16,
     "metadata": {},
     "output_type": "execute_result"
    }
   ],
   "source": [
    "cleaned_query.content"
   ]
  },
  {
   "cell_type": "code",
   "execution_count": 17,
   "metadata": {},
   "outputs": [
    {
     "data": {
      "text/plain": [
       "'[(8,)]'"
      ]
     },
     "execution_count": 17,
     "metadata": {},
     "output_type": "execute_result"
    }
   ],
   "source": [
    "db.run(cleaned_query.content)"
   ]
  },
  {
   "cell_type": "code",
   "execution_count": 18,
   "metadata": {},
   "outputs": [
    {
     "name": "stdout",
     "output_type": "stream",
     "text": [
      "You are a SQLite expert. Given an input question, first create a syntactically correct SQLite query to run, then look at the results of the query and return the answer to the input question.\n",
      "Unless the user specifies in the question a specific number of examples to obtain, query for at most 5 results using the LIMIT clause as per SQLite. You can order the results to return the most informative data in the database.\n",
      "Never query for all columns from a table. You must query only the columns that are needed to answer the question. Wrap each column name in double quotes (\") to denote them as delimited identifiers.\n",
      "Pay attention to use only the column names you can see in the tables below. Be careful to not query for columns that do not exist. Also, pay attention to which column is in which table.\n",
      "Pay attention to use date('now') function to get the current date, if the question involves \"today\".\n",
      "\n",
      "Use the following format:\n",
      "\n",
      "Question: Question here\n",
      "SQLQuery: SQL Query to run\n",
      "SQLResult: Result of the SQLQuery\n",
      "Answer: Final answer here\n",
      "\n",
      "Only use the following tables:\n",
      "\u001b[33;1m\u001b[1;3m{table_info}\u001b[0m\n",
      "\n",
      "Question: \u001b[33;1m\u001b[1;3m{input}\u001b[0m\n"
     ]
    }
   ],
   "source": [
    "chain.get_prompts()[0].pretty_print()"
   ]
  },
  {
   "cell_type": "code",
   "execution_count": 19,
   "metadata": {},
   "outputs": [],
   "source": [
    "from langchain_community.agent_toolkits.sql.toolkit import SQLDatabaseToolkit\n",
    "\n",
    "toolkit = SQLDatabaseToolkit(db=db, llm=llm)"
   ]
  },
  {
   "cell_type": "code",
   "execution_count": 20,
   "metadata": {},
   "outputs": [
    {
     "data": {
      "text/plain": [
       "[QuerySQLDatabaseTool(description=\"Input to this tool is a detailed and correct SQL query, output is a result from the database. If the query is not correct, an error message will be returned. If an error is returned, rewrite the query, check the query, and try again. If you encounter an issue with Unknown column 'xxxx' in 'field list', use sql_db_schema to query the correct table fields.\", db=<langchain_community.utilities.sql_database.SQLDatabase object at 0x7f5ba04bd150>),\n",
       " InfoSQLDatabaseTool(description='Input to this tool is a comma-separated list of tables, output is the schema and sample rows for those tables. Be sure that the tables actually exist by calling sql_db_list_tables first! Example Input: table1, table2, table3', db=<langchain_community.utilities.sql_database.SQLDatabase object at 0x7f5ba04bd150>),\n",
       " ListSQLDatabaseTool(db=<langchain_community.utilities.sql_database.SQLDatabase object at 0x7f5ba04bd150>),\n",
       " QuerySQLCheckerTool(description='Use this tool to double check if your query is correct before executing it. Always use this tool before executing a query with sql_db_query!', db=<langchain_community.utilities.sql_database.SQLDatabase object at 0x7f5ba04bd150>, llm=ChatGroq(client=<groq.resources.chat.completions.Completions object at 0x7f5ba0121630>, async_client=<groq.resources.chat.completions.AsyncCompletions object at 0x7f5ba01222c0>, model_name='llama-3.3-70b-versatile', model_kwargs={}, groq_api_key=SecretStr('**********')), llm_chain=LLMChain(verbose=False, prompt=PromptTemplate(input_variables=['dialect', 'query'], input_types={}, partial_variables={}, template='\\n{query}\\nDouble check the {dialect} query above for common mistakes, including:\\n- Using NOT IN with NULL values\\n- Using UNION when UNION ALL should have been used\\n- Using BETWEEN for exclusive ranges\\n- Data type mismatch in predicates\\n- Properly quoting identifiers\\n- Using the correct number of arguments for functions\\n- Casting to the correct data type\\n- Using the proper columns for joins\\n\\nIf there are any of the above mistakes, rewrite the query. If there are no mistakes, just reproduce the original query.\\n\\nOutput the final SQL query only.\\n\\nSQL Query: '), llm=ChatGroq(client=<groq.resources.chat.completions.Completions object at 0x7f5ba0121630>, async_client=<groq.resources.chat.completions.AsyncCompletions object at 0x7f5ba01222c0>, model_name='llama-3.3-70b-versatile', model_kwargs={}, groq_api_key=SecretStr('**********')), output_parser=StrOutputParser(), llm_kwargs={}))]"
      ]
     },
     "execution_count": 20,
     "metadata": {},
     "output_type": "execute_result"
    }
   ],
   "source": [
    "toolkit.get_tools()"
   ]
  },
  {
   "cell_type": "code",
   "execution_count": 21,
   "metadata": {},
   "outputs": [
    {
     "name": "stderr",
     "output_type": "stream",
     "text": [
      "/home/dnk131/miniconda3/envs/snode/lib/python3.10/site-packages/langsmith/client.py:323: LangSmithMissingAPIKeyWarning: API key must be provided when using hosted LangSmith API\n",
      "  warnings.warn(\n"
     ]
    },
    {
     "name": "stdout",
     "output_type": "stream",
     "text": [
      "['dialect', 'top_k']\n"
     ]
    }
   ],
   "source": [
    "from langchain import hub\n",
    "\n",
    "prompt_template = hub.pull(\"langchain-ai/sql-agent-system-prompt\")\n",
    "\n",
    "assert len(prompt_template.messages) == 1\n",
    "print(prompt_template.input_variables)"
   ]
  },
  {
   "cell_type": "code",
   "execution_count": 22,
   "metadata": {},
   "outputs": [
    {
     "name": "stdout",
     "output_type": "stream",
     "text": [
      "================================\u001b[1m System Message \u001b[0m================================\n",
      "\n",
      "You are an agent designed to interact with a SQL database.\n",
      "Given an input question, create a syntactically correct \u001b[33;1m\u001b[1;3m{dialect}\u001b[0m query to run, then look at the results of the query and return the answer.\n",
      "Unless the user specifies a specific number of examples they wish to obtain, always limit your query to at most \u001b[33;1m\u001b[1;3m{top_k}\u001b[0m results.\n",
      "You can order the results by a relevant column to return the most interesting examples in the database.\n",
      "Never query for all the columns from a specific table, only ask for the relevant columns given the question.\n",
      "You have access to tools for interacting with the database.\n",
      "Only use the below tools. Only use the information returned by the below tools to construct your final answer.\n",
      "You MUST double check your query before executing it. If you get an error while executing a query, rewrite the query and try again.\n",
      "\n",
      "DO NOT make any DML statements (INSERT, UPDATE, DELETE, DROP etc.) to the database.\n",
      "\n",
      "To start you should ALWAYS look at the tables in the database to see what you can query.\n",
      "Do NOT skip this step.\n",
      "Then you should query the schema of the most relevant tables.\n",
      "None\n"
     ]
    }
   ],
   "source": [
    "from pprint import pprint\n",
    "pprint(prompt_template.pretty_print())"
   ]
  },
  {
   "cell_type": "code",
   "execution_count": 23,
   "metadata": {},
   "outputs": [],
   "source": [
    "import re\n",
    "\n",
    "def extract_sql_queries(llm_response):\n",
    "    \"\"\"\n",
    "    Extracts all SQL queries from the given LLM response in markdown format.\n",
    "\n",
    "    Args:\n",
    "        llm_response (str): The LLM's markdown response containing SQL queries.\n",
    "\n",
    "    Returns:\n",
    "        list: A list of extracted SQL queries.\n",
    "    \"\"\"\n",
    "    # Regular expression to match SQL queries\n",
    "    sql_pattern = r\"```sql\\s+(.*?)\\s+```\"\n",
    "    matches = re.findall(sql_pattern, llm_response, re.DOTALL)\n",
    "\n",
    "    # Strip and return the SQL queries\n",
    "    return [match.strip() for match in matches]\n",
    "\n",
    "# Example LLM response\n",
    "llm_response ='''\n",
    "'Here is the answer:\\n\\nQuestion: How many employees are there\\nSQLQuery: SELECT COUNT(\"EmployeeId\") FROM \"Employee\" LIMIT 1;',\n",
    "Here are the SQL queries:\n",
    "\n",
    "```sql\n",
    "SELECT * FROM users WHERE age > 30;\n",
    "```\n",
    "\n",
    "Certainly! Here’s a simple SQL query example that retrieves data from a table called `employees`. This query selects the names and job titles of all employees:\n",
    "\n",
    "```sql\n",
    "SELECT name, job_title\n",
    "FROM employees;\n",
    "```\n",
    "\n",
    "### Explanation:\n",
    "- **SELECT**: This clause specifies the columns you want to retrieve. In this case, `name` and `job_title`.\n",
    "- **FROM**: This clause specifies the table from which to retrieve the data, which is `employees` in this example.\n",
    "\n",
    "If you need a specific query or have a particular scenario in mind, feel free to ask!\n",
    "'''"
   ]
  },
  {
   "cell_type": "code",
   "execution_count": 24,
   "metadata": {},
   "outputs": [
    {
     "name": "stdout",
     "output_type": "stream",
     "text": [
      "Extracted SQL Queries:\n",
      "SELECT * FROM users WHERE age > 30;\n",
      "SELECT name, job_title\n",
      "FROM employees;\n"
     ]
    }
   ],
   "source": [
    "sql_queries = extract_sql_queries(llm_response)\n",
    "print(\"Extracted SQL Queries:\")\n",
    "for q in sql_queries:\n",
    "    print(q)"
   ]
  }
 ],
 "metadata": {
  "kernelspec": {
   "display_name": "snode",
   "language": "python",
   "name": "python3"
  },
  "language_info": {
   "codemirror_mode": {
    "name": "ipython",
    "version": 3
   },
   "file_extension": ".py",
   "mimetype": "text/x-python",
   "name": "python",
   "nbconvert_exporter": "python",
   "pygments_lexer": "ipython3",
   "version": "3.10.14"
  }
 },
 "nbformat": 4,
 "nbformat_minor": 2
}
