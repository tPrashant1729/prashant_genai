{
 "cells": [
  {
   "cell_type": "code",
   "execution_count": 1,
   "metadata": {},
   "outputs": [],
   "source": [
    "from langchain_groq import ChatGroq\n",
    "from dotenv import load_dotenv\n",
    "import os\n",
    "load_dotenv()\n",
    "from pprint import pprint"
   ]
  },
  {
   "cell_type": "code",
   "execution_count": 2,
   "metadata": {},
   "outputs": [],
   "source": [
    "groq_api_key = os.environ.get('GROQ_API_KEY')\n"
   ]
  },
  {
   "cell_type": "code",
   "execution_count": 3,
   "metadata": {},
   "outputs": [
    {
     "name": "stdout",
     "output_type": "stream",
     "text": [
      "sqlite\n",
      "['Album', 'Artist', 'Customer', 'Employee', 'Genre', 'Invoice', 'InvoiceLine', 'MediaType', 'Playlist', 'PlaylistTrack', 'Track']\n"
     ]
    },
    {
     "data": {
      "text/plain": [
       "\"[(1, 'AC/DC'), (2, 'Accept'), (3, 'Aerosmith'), (4, 'Alanis Morissette'), (5, 'Alice In Chains'), (6, 'Antônio Carlos Jobim'), (7, 'Apocalyptica'), (8, 'Audioslave'), (9, 'BackBeat'), (10, 'Billy Cobham')]\""
      ]
     },
     "execution_count": 3,
     "metadata": {},
     "output_type": "execute_result"
    }
   ],
   "source": [
    "from langchain_community.utilities import SQLDatabase\n",
    "\n",
    "db = SQLDatabase.from_uri(\"sqlite:///Chinook.db\")\n",
    "print(db.dialect)\n",
    "print(db.get_usable_table_names())\n",
    "db.run(\"SELECT * FROM Artist LIMIT 10;\")"
   ]
  },
  {
   "cell_type": "code",
   "execution_count": 4,
   "metadata": {},
   "outputs": [],
   "source": [
    "from langchain.chains import create_sql_query_chain\n",
    "\n",
    "llm = ChatGroq(model=\"llama-3.3-70b-versatile\")\n",
    "chain = create_sql_query_chain(llm, db)\n",
    "response = chain.invoke({\"question\": \"How many Genre are there and who is the best artist in each genre?, do not use limit function in query\"})\n",
    "from langchain_core.output_parsers import StrOutputParser\n",
    "parser = StrOutputParser()\n",
    "parsed = parser.parse(response)"
   ]
  },
  {
   "cell_type": "code",
   "execution_count": 5,
   "metadata": {},
   "outputs": [
    {
     "name": "stdout",
     "output_type": "stream",
     "text": [
      "To answer this question, we need to find the number of genres and the best artist in each genre. We can assume that the best artist in each genre is the one who has the most tracks in that genre.\n",
      "\n",
      "```sql\n",
      "SELECT \n",
      "    \"G\".\"Name\" AS \"GenreName\", \n",
      "    COUNT(\"T\".\"TrackId\") AS \"NumberOfTracks\", \n",
      "    \"A\".\"Name\" AS \"BestArtist\"\n",
      "FROM \n",
      "    \"Genre\" \"G\"\n",
      "JOIN \n",
      "    \"Track\" \"T\" ON \"G\".\"GenreId\" = \"T\".\"GenreId\"\n",
      "JOIN \n",
      "    \"Album\" \"Al\" ON \"T\".\"AlbumId\" = \"Al\".\"AlbumId\"\n",
      "JOIN \n",
      "    \"Artist\" \"A\" ON \"Al\".\"ArtistId\" = \"A\".\"ArtistId\"\n",
      "GROUP BY \n",
      "    \"G\".\"Name\", \"A\".\"Name\"\n",
      "ORDER BY \n",
      "    \"G\".\"Name\"\n",
      "```\n",
      "\n",
      "However, the above query will not give the correct result if there are multiple artists with the same number of tracks in a genre. To get the correct result, we need to use a subquery to find the artist with the most tracks in each genre.\n",
      "\n",
      "```sql\n",
      "SELECT \n",
      "    \"G\".\"Name\" AS \"GenreName\", \n",
      "    \"A\".\"Name\" AS \"BestArtist\"\n",
      "FROM \n",
      "    \"Genre\" \"G\"\n",
      "JOIN \n",
      "    \"Track\" \"T\" ON \"G\".\"GenreId\" = \"T\".\"GenreId\"\n",
      "JOIN \n",
      "    \"Album\" \"Al\" ON \"T\".\"AlbumId\" = \"Al\".\"AlbumId\"\n",
      "JOIN \n",
      "    \"Artist\" \"A\" ON \"Al\".\"ArtistId\" = \"A\".\"ArtistId\"\n",
      "WHERE \n",
      "    (\"G\".\"Name\", \"A\".\"Name\") IN (\n",
      "        SELECT \n",
      "            \"G2\".\"Name\", \"A2\".\"Name\"\n",
      "        FROM \n",
      "            \"Genre\" \"G2\"\n",
      "        JOIN \n",
      "            \"Track\" \"T2\" ON \"G2\".\"GenreId\" = \"T2\".\"GenreId\"\n",
      "        JOIN \n",
      "            \"Album\" \"Al2\" ON \"T2\".\"AlbumId\" = \"Al2\".\"AlbumId\"\n",
      "        JOIN \n",
      "            \"Artist\" \"A2\" ON \"Al2\".\"ArtistId\" = \"A2\".\"ArtistId\"\n",
      "        GROUP BY \n",
      "            \"G2\".\"Name\", \"A2\".\"Name\"\n",
      "        HAVING \n",
      "            COUNT(\"T2\".\"TrackId\") = (\n",
      "                SELECT \n",
      "                    MAX(\"cnt\")\n",
      "                FROM (\n",
      "                    SELECT \n",
      "                        \"G3\".\"Name\", \"A3\".\"Name\", COUNT(\"T3\".\"TrackId\") AS \"cnt\"\n",
      "                    FROM \n",
      "                        \"Genre\" \"G3\"\n",
      "                    JOIN \n",
      "                        \"Track\" \"T3\" ON \"G3\".\"GenreId\" = \"T3\".\"GenreId\"\n",
      "                    JOIN \n",
      "                        \"Album\" \"Al3\" ON \"T3\".\"AlbumId\" = \"Al3\".\"AlbumId\"\n",
      "                    JOIN \n",
      "                        \"Artist\" \"A3\" ON \"Al3\".\"ArtistId\" = \"A3\".\"ArtistId\"\n",
      "                    WHERE \n",
      "                        \"G3\".\"Name\" = \"G2\".\"Name\"\n",
      "                    GROUP BY \n",
      "                        \"G3\".\"Name\", \"A3\".\"Name\"\n",
      "                ) AS \"subquery\"\n",
      "            )\n",
      "    )\n",
      "```\n",
      "\n",
      "This query will return the best artist in each genre, but it will not return the number of genres. To get the number of genres, we can use a separate query:\n",
      "\n",
      "```sql\n",
      "SELECT \n",
      "    COUNT(\"GenreId\") AS \"NumberOfGenres\"\n",
      "FROM \n",
      "    \"Genre\"\n",
      "```\n",
      "\n",
      "So, the complete answer will be:\n",
      "\n",
      "SQLQuery:\n",
      "```sql\n",
      "SELECT \n",
      "    COUNT(\"GenreId\") AS \"NumberOfGenres\"\n",
      "FROM \n",
      "    \"Genre\"\n",
      "\n",
      "SELECT \n",
      "    \"G\".\"Name\" AS \"GenreName\", \n",
      "    \"A\".\"Name\" AS \"BestArtist\"\n",
      "FROM \n",
      "    \"Genre\" \"G\"\n",
      "JOIN \n",
      "    \"Track\" \"T\" ON \"G\".\"GenreId\" = \"T\".\"GenreId\"\n",
      "JOIN \n",
      "    \"Album\" \"Al\" ON \"T\".\"AlbumId\" = \"Al\".\"AlbumId\"\n",
      "JOIN \n",
      "    \"Artist\" \"A\" ON \"Al\".\"ArtistId\" = \"A\".\"ArtistId\"\n",
      "WHERE \n",
      "    (\"G\".\"Name\", \"A\".\"Name\") IN (\n",
      "        SELECT \n",
      "            \"G2\".\"Name\", \"A2\".\"Name\"\n",
      "        FROM \n",
      "            \"Genre\" \"G2\"\n",
      "        JOIN \n",
      "            \"Track\" \"T2\" ON \"G2\".\"GenreId\" = \"T2\".\"GenreId\"\n",
      "        JOIN \n",
      "            \"Album\" \"Al2\" ON \"T2\".\"AlbumId\" = \"Al2\".\"AlbumId\"\n",
      "        JOIN \n",
      "            \"Artist\" \"A2\" ON \"Al2\".\"ArtistId\" = \"A2\".\"ArtistId\"\n",
      "        GROUP BY \n",
      "            \"G2\".\"Name\", \"A2\".\"Name\"\n",
      "        HAVING \n",
      "            COUNT(\"T2\".\"TrackId\") = (\n",
      "                SELECT \n",
      "                    MAX(\"cnt\")\n",
      "                FROM (\n",
      "                    SELECT \n",
      "                        \"G3\".\"Name\", \"A3\".\"Name\", COUNT(\"T3\".\"TrackId\") AS \"cnt\"\n",
      "                    FROM \n",
      "                        \"Genre\" \"G3\"\n",
      "                    JOIN \n",
      "                        \"Track\" \"T3\" ON \"G3\".\"GenreId\" = \"T3\".\"GenreId\"\n",
      "                    JOIN \n",
      "                        \"Album\" \"Al3\" ON \"T3\".\"AlbumId\" = \"Al3\".\"AlbumId\"\n",
      "                    JOIN \n",
      "                        \"Artist\" \"A3\" ON \"Al3\".\"ArtistId\" = \"A3\".\"ArtistId\"\n",
      "                    WHERE \n",
      "                        \"G3\".\"Name\" = \"G2\".\"Name\"\n",
      "                    GROUP BY \n",
      "                        \"G3\".\"Name\", \"A3\".\"Name\"\n",
      "                ) AS \"subquery\"\n",
      "            )\n",
      "    )\n",
      "```\n"
     ]
    }
   ],
   "source": [
    "print(parsed)"
   ]
  },
  {
   "cell_type": "code",
   "execution_count": 6,
   "metadata": {},
   "outputs": [
    {
     "name": "stdout",
     "output_type": "stream",
     "text": [
      "Query 1:\n",
      "SELECT \n",
      "    \"G\".\"Name\" AS \"GenreName\", \n",
      "    COUNT(\"T\".\"TrackId\") AS \"NumberOfTracks\", \n",
      "    \"A\".\"Name\" AS \"BestArtist\"\n",
      "FROM \n",
      "    \"Genre\" \"G\"\n",
      "JOIN \n",
      "    \"Track\" \"T\" ON \"G\".\"GenreId\" = \"T\".\"GenreId\"\n",
      "JOIN \n",
      "    \"Album\" \"Al\" ON \"T\".\"AlbumId\" = \"Al\".\"AlbumId\"\n",
      "JOIN \n",
      "    \"Artist\" \"A\" ON \"Al\".\"ArtistId\" = \"A\".\"ArtistId\"\n",
      "GROUP BY \n",
      "    \"G\".\"Name\", \"A\".\"Name\"\n",
      "ORDER BY \n",
      "    \"G\".\"Name\"\n",
      "\n",
      "Query 2:\n",
      "SELECT \n",
      "    \"G\".\"Name\" AS \"GenreName\", \n",
      "    \"A\".\"Name\" AS \"BestArtist\"\n",
      "FROM \n",
      "    \"Genre\" \"G\"\n",
      "JOIN \n",
      "    \"Track\" \"T\" ON \"G\".\"GenreId\" = \"T\".\"GenreId\"\n",
      "JOIN \n",
      "    \"Album\" \"Al\" ON \"T\".\"AlbumId\" = \"Al\".\"AlbumId\"\n",
      "JOIN \n",
      "    \"Artist\" \"A\" ON \"Al\".\"ArtistId\" = \"A\".\"ArtistId\"\n",
      "WHERE \n",
      "    (\"G\".\"Name\", \"A\".\"Name\") IN (\n",
      "        SELECT \n",
      "            \"G2\".\"Name\", \"A2\".\"Name\"\n",
      "        FROM \n",
      "            \"Genre\" \"G2\"\n",
      "        JOIN \n",
      "            \"Track\" \"T2\" ON \"G2\".\"GenreId\" = \"T2\".\"GenreId\"\n",
      "        JOIN \n",
      "            \"Album\" \"Al2\" ON \"T2\".\"AlbumId\" = \"Al2\".\"AlbumId\"\n",
      "        JOIN \n",
      "            \"Artist\" \"A2\" ON \"Al2\".\"ArtistId\" = \"A2\".\"ArtistId\"\n",
      "        GROUP BY \n",
      "            \"G2\".\"Name\", \"A2\".\"Name\"\n",
      "        HAVING \n",
      "            COUNT(\"T2\".\"TrackId\") = (\n",
      "                SELECT \n",
      "                    MAX(\"cnt\")\n",
      "                FROM (\n",
      "                    SELECT \n",
      "                        \"G3\".\"Name\", \"A3\".\"Name\", COUNT(\"T3\".\"TrackId\") AS \"cnt\"\n",
      "                    FROM \n",
      "                        \"Genre\" \"G3\"\n",
      "                    JOIN \n",
      "                        \"Track\" \"T3\" ON \"G3\".\"GenreId\" = \"T3\".\"GenreId\"\n",
      "                    JOIN \n",
      "                        \"Album\" \"Al3\" ON \"T3\".\"AlbumId\" = \"Al3\".\"AlbumId\"\n",
      "                    JOIN \n",
      "                        \"Artist\" \"A3\" ON \"Al3\".\"ArtistId\" = \"A3\".\"ArtistId\"\n",
      "                    WHERE \n",
      "                        \"G3\".\"Name\" = \"G2\".\"Name\"\n",
      "                    GROUP BY \n",
      "                        \"G3\".\"Name\", \"A3\".\"Name\"\n",
      "                ) AS \"subquery\"\n",
      "            )\n",
      "    )\n",
      "\n",
      "Query 3:\n",
      "SELECT \n",
      "    COUNT(\"GenreId\") AS \"NumberOfGenres\"\n",
      "FROM \n",
      "    \"Genre\"\n",
      "\n",
      "Query 4:\n",
      "SELECT \n",
      "    COUNT(\"GenreId\") AS \"NumberOfGenres\"\n",
      "FROM \n",
      "    \"Genre\"\n",
      "\n",
      "SELECT \n",
      "    \"G\".\"Name\" AS \"GenreName\", \n",
      "    \"A\".\"Name\" AS \"BestArtist\"\n",
      "FROM \n",
      "    \"Genre\" \"G\"\n",
      "JOIN \n",
      "    \"Track\" \"T\" ON \"G\".\"GenreId\" = \"T\".\"GenreId\"\n",
      "JOIN \n",
      "    \"Album\" \"Al\" ON \"T\".\"AlbumId\" = \"Al\".\"AlbumId\"\n",
      "JOIN \n",
      "    \"Artist\" \"A\" ON \"Al\".\"ArtistId\" = \"A\".\"ArtistId\"\n",
      "WHERE \n",
      "    (\"G\".\"Name\", \"A\".\"Name\") IN (\n",
      "        SELECT \n",
      "            \"G2\".\"Name\", \"A2\".\"Name\"\n",
      "        FROM \n",
      "            \"Genre\" \"G2\"\n",
      "        JOIN \n",
      "            \"Track\" \"T2\" ON \"G2\".\"GenreId\" = \"T2\".\"GenreId\"\n",
      "        JOIN \n",
      "            \"Album\" \"Al2\" ON \"T2\".\"AlbumId\" = \"Al2\".\"AlbumId\"\n",
      "        JOIN \n",
      "            \"Artist\" \"A2\" ON \"Al2\".\"ArtistId\" = \"A2\".\"ArtistId\"\n",
      "        GROUP BY \n",
      "            \"G2\".\"Name\", \"A2\".\"Name\"\n",
      "        HAVING \n",
      "            COUNT(\"T2\".\"TrackId\") = (\n",
      "                SELECT \n",
      "                    MAX(\"cnt\")\n",
      "                FROM (\n",
      "                    SELECT \n",
      "                        \"G3\".\"Name\", \"A3\".\"Name\", COUNT(\"T3\".\"TrackId\") AS \"cnt\"\n",
      "                    FROM \n",
      "                        \"Genre\" \"G3\"\n",
      "                    JOIN \n",
      "                        \"Track\" \"T3\" ON \"G3\".\"GenreId\" = \"T3\".\"GenreId\"\n",
      "                    JOIN \n",
      "                        \"Album\" \"Al3\" ON \"T3\".\"AlbumId\" = \"Al3\".\"AlbumId\"\n",
      "                    JOIN \n",
      "                        \"Artist\" \"A3\" ON \"Al3\".\"ArtistId\" = \"A3\".\"ArtistId\"\n",
      "                    WHERE \n",
      "                        \"G3\".\"Name\" = \"G2\".\"Name\"\n",
      "                    GROUP BY \n",
      "                        \"G3\".\"Name\", \"A3\".\"Name\"\n",
      "                ) AS \"subquery\"\n",
      "            )\n",
      "    )\n",
      "\n"
     ]
    }
   ],
   "source": [
    "import re\n",
    "\n",
    "def parse_query(parsed):\n",
    "    # Response text\n",
    "    response_text = parsed\n",
    "    \n",
    "    # Regex to find SQL code blocks\n",
    "    sql_blocks = re.findall(r\"```sql\\n(.*?)\\n```\", response_text, re.DOTALL)\n",
    "    \n",
    "    # Print or save the extracted SQL queries\n",
    "    for i, sql_query in enumerate(sql_blocks, start=1):\n",
    "        print(f\"Query {i}:\\n{sql_query}\\n\")\n",
    "    \n",
    "    return sql_blocks\n",
    "\n",
    "sql_blocks = parse_query(parsed)"
   ]
  },
  {
   "cell_type": "code",
   "execution_count": 7,
   "metadata": {},
   "outputs": [
    {
     "data": {
      "text/plain": [
       "4"
      ]
     },
     "execution_count": 7,
     "metadata": {},
     "output_type": "execute_result"
    }
   ],
   "source": [
    "len(sql_blocks)"
   ]
  },
  {
   "cell_type": "code",
   "execution_count": 8,
   "metadata": {},
   "outputs": [
    {
     "name": "stdout",
     "output_type": "stream",
     "text": [
      "(sqlite3.OperationalError) near \"SELECT\": syntax error\n",
      "[SQL: SELECT \n",
      "    COUNT(\"GenreId\") AS \"NumberOfGenres\"\n",
      "FROM \n",
      "    \"Genre\"\n",
      "\n",
      "SELECT \n",
      "    \"G\".\"Name\" AS \"GenreName\", \n",
      "    \"A\".\"Name\" AS \"BestArtist\"\n",
      "FROM \n",
      "    \"Genre\" \"G\"\n",
      "JOIN \n",
      "    \"Track\" \"T\" ON \"G\".\"GenreId\" = \"T\".\"GenreId\"\n",
      "JOIN \n",
      "    \"Album\" \"Al\" ON \"T\".\"AlbumId\" = \"Al\".\"AlbumId\"\n",
      "JOIN \n",
      "    \"Artist\" \"A\" ON \"Al\".\"ArtistId\" = \"A\".\"ArtistId\"\n",
      "WHERE \n",
      "    (\"G\".\"Name\", \"A\".\"Name\") IN (\n",
      "        SELECT \n",
      "            \"G2\".\"Name\", \"A2\".\"Name\"\n",
      "        FROM \n",
      "            \"Genre\" \"G2\"\n",
      "        JOIN \n",
      "            \"Track\" \"T2\" ON \"G2\".\"GenreId\" = \"T2\".\"GenreId\"\n",
      "        JOIN \n",
      "            \"Album\" \"Al2\" ON \"T2\".\"AlbumId\" = \"Al2\".\"AlbumId\"\n",
      "        JOIN \n",
      "            \"Artist\" \"A2\" ON \"Al2\".\"ArtistId\" = \"A2\".\"ArtistId\"\n",
      "        GROUP BY \n",
      "            \"G2\".\"Name\", \"A2\".\"Name\"\n",
      "        HAVING \n",
      "            COUNT(\"T2\".\"TrackId\") = (\n",
      "                SELECT \n",
      "                    MAX(\"cnt\")\n",
      "                FROM (\n",
      "                    SELECT \n",
      "                        \"G3\".\"Name\", \"A3\".\"Name\", COUNT(\"T3\".\"TrackId\") AS \"cnt\"\n",
      "                    FROM \n",
      "                        \"Genre\" \"G3\"\n",
      "                    JOIN \n",
      "                        \"Track\" \"T3\" ON \"G3\".\"GenreId\" = \"T3\".\"GenreId\"\n",
      "                    JOIN \n",
      "                        \"Album\" \"Al3\" ON \"T3\".\"AlbumId\" = \"Al3\".\"AlbumId\"\n",
      "                    JOIN \n",
      "                        \"Artist\" \"A3\" ON \"Al3\".\"ArtistId\" = \"A3\".\"ArtistId\"\n",
      "                    WHERE \n",
      "                        \"G3\".\"Name\" = \"G2\".\"Name\"\n",
      "                    GROUP BY \n",
      "                        \"G3\".\"Name\", \"A3\".\"Name\"\n",
      "                ) AS \"subquery\"\n",
      "            )\n",
      "    )]\n",
      "(Background on this error at: https://sqlalche.me/e/20/e3q8)\n"
     ]
    }
   ],
   "source": [
    "# sql_blocks = []\n",
    "if sql_blocks:\n",
    "    # sql_blocks[-1]\n",
    "    try:\n",
    "        print(db.run(sql_blocks[-1]))\n",
    "    except Exception as e:\n",
    "        print(e)\n",
    "else: print(\"---\")"
   ]
  },
  {
   "cell_type": "code",
   "execution_count": 9,
   "metadata": {},
   "outputs": [
    {
     "name": "stdout",
     "output_type": "stream",
     "text": [
      "You are a SQLite expert. Given an input question, first create a syntactically correct SQLite query to run, then look at the results of the query and return the answer to the input question.\n",
      "Unless the user specifies in the question a specific number of examples to obtain, query for at most 5 results using the LIMIT clause as per SQLite. You can order the results to return the most informative data in the database.\n",
      "Never query for all columns from a table. You must query only the columns that are needed to answer the question. Wrap each column name in double quotes (\") to denote them as delimited identifiers.\n",
      "Pay attention to use only the column names you can see in the tables below. Be careful to not query for columns that do not exist. Also, pay attention to which column is in which table.\n",
      "Pay attention to use date('now') function to get the current date, if the question involves \"today\".\n",
      "\n",
      "Use the following format:\n",
      "\n",
      "Question: Question here\n",
      "SQLQuery: SQL Query to run\n",
      "SQLResult: Result of the SQLQuery\n",
      "Answer: Final answer here\n",
      "\n",
      "Only use the following tables:\n",
      "\u001b[33;1m\u001b[1;3m{table_info}\u001b[0m\n",
      "\n",
      "Question: \u001b[33;1m\u001b[1;3m{input}\u001b[0m\n"
     ]
    }
   ],
   "source": [
    "chain.get_prompts()[0].pretty_print()"
   ]
  },
  {
   "cell_type": "code",
   "execution_count": 10,
   "metadata": {},
   "outputs": [
    {
     "ename": "ImportError",
     "evalue": "cannot import name 'QuerySQLDatabaseTool' from 'langchain_community.tools' (c:\\Users\\abc\\miniconda3\\envs\\practice\\lib\\site-packages\\langchain_community\\tools\\__init__.py)",
     "output_type": "error",
     "traceback": [
      "\u001b[1;31m---------------------------------------------------------------------------\u001b[0m",
      "\u001b[1;31mImportError\u001b[0m                               Traceback (most recent call last)",
      "Cell \u001b[1;32mIn[10], line 1\u001b[0m\n\u001b[1;32m----> 1\u001b[0m \u001b[38;5;28;01mfrom\u001b[39;00m \u001b[38;5;21;01mlangchain_community\u001b[39;00m\u001b[38;5;21;01m.\u001b[39;00m\u001b[38;5;21;01mtools\u001b[39;00m \u001b[38;5;28;01mimport\u001b[39;00m QuerySQLDatabaseTool\n\u001b[0;32m      3\u001b[0m execute_query \u001b[38;5;241m=\u001b[39m QuerySQLDatabaseTool(db\u001b[38;5;241m=\u001b[39mdb)\n\u001b[0;32m      4\u001b[0m write_query \u001b[38;5;241m=\u001b[39m create_sql_query_chain(llm, db)\n",
      "\u001b[1;31mImportError\u001b[0m: cannot import name 'QuerySQLDatabaseTool' from 'langchain_community.tools' (c:\\Users\\abc\\miniconda3\\envs\\practice\\lib\\site-packages\\langchain_community\\tools\\__init__.py)"
     ]
    }
   ],
   "source": [
    "from langchain_community.tools import QuerySQLDatabaseTool\n",
    "\n",
    "execute_query = QuerySQLDatabaseTool(db=db)\n",
    "write_query = create_sql_query_chain(llm, db)\n",
    "chain = write_query\n",
    "parsed1 = parser.parse(chain.invoke({\"question\": \"How many employees are there\"})) #.split(':')[-1])\n",
    "# sql_blocks1 = parse_query(parsed1)\n",
    "# sql_blocks1\n",
    "parsed1"
   ]
  },
  {
   "cell_type": "code",
   "execution_count": 11,
   "metadata": {},
   "outputs": [
    {
     "ename": "NameError",
     "evalue": "name 'execute_query' is not defined",
     "output_type": "error",
     "traceback": [
      "\u001b[1;31m---------------------------------------------------------------------------\u001b[0m",
      "\u001b[1;31mNameError\u001b[0m                                 Traceback (most recent call last)",
      "Cell \u001b[1;32mIn[11], line 2\u001b[0m\n\u001b[0;32m      1\u001b[0m db\u001b[38;5;241m.\u001b[39mrun(\u001b[38;5;124m'\u001b[39m\u001b[38;5;124m SELECT COUNT(\u001b[39m\u001b[38;5;124m\"\u001b[39m\u001b[38;5;124mEmployeeId\u001b[39m\u001b[38;5;124m\"\u001b[39m\u001b[38;5;124m) FROM \u001b[39m\u001b[38;5;124m\"\u001b[39m\u001b[38;5;124mEmployee\u001b[39m\u001b[38;5;124m\"\u001b[39m\u001b[38;5;124m LIMIT 1;\u001b[39m\u001b[38;5;124m'\u001b[39m)\n\u001b[1;32m----> 2\u001b[0m \u001b[43mexecute_query\u001b[49m\u001b[38;5;241m.\u001b[39minvoke(chain\u001b[38;5;241m.\u001b[39minvoke({\u001b[38;5;124m\"\u001b[39m\u001b[38;5;124mquestion\u001b[39m\u001b[38;5;124m\"\u001b[39m: \u001b[38;5;124m\"\u001b[39m\u001b[38;5;124mHow many employees are there\u001b[39m\u001b[38;5;124m\"\u001b[39m})\n\u001b[0;32m      3\u001b[0m                      \u001b[38;5;241m.\u001b[39msplit(\u001b[38;5;124m'\u001b[39m\u001b[38;5;124m:\u001b[39m\u001b[38;5;124m'\u001b[39m)[\u001b[38;5;241m-\u001b[39m\u001b[38;5;241m1\u001b[39m]\n\u001b[0;32m      4\u001b[0m                      )\n",
      "\u001b[1;31mNameError\u001b[0m: name 'execute_query' is not defined"
     ]
    }
   ],
   "source": [
    "db.run(' SELECT COUNT(\"EmployeeId\") FROM \"Employee\" LIMIT 1;')\n",
    "execute_query.invoke(chain.invoke({\"question\": \"How many employees are there\"})\n",
    "                     .split(':')[-1]\n",
    "                     )"
   ]
  },
  {
   "cell_type": "code",
   "execution_count": 12,
   "metadata": {},
   "outputs": [
    {
     "ename": "NameError",
     "evalue": "name 'write_query' is not defined",
     "output_type": "error",
     "traceback": [
      "\u001b[1;31m---------------------------------------------------------------------------\u001b[0m",
      "\u001b[1;31mNameError\u001b[0m                                 Traceback (most recent call last)",
      "Cell \u001b[1;32mIn[12], line 19\u001b[0m\n\u001b[0;32m      7\u001b[0m answer_prompt \u001b[38;5;241m=\u001b[39m PromptTemplate\u001b[38;5;241m.\u001b[39mfrom_template(\n\u001b[0;32m      8\u001b[0m \u001b[38;5;250m    \u001b[39m\u001b[38;5;124;03m\"\"\"Given the following user question, corresponding SQL query, and SQL result, answer the user question.\u001b[39;00m\n\u001b[0;32m      9\u001b[0m \n\u001b[1;32m   (...)\u001b[0m\n\u001b[0;32m     13\u001b[0m \u001b[38;5;124;03m        Answer: \"\"\"\u001b[39;00m\n\u001b[0;32m     14\u001b[0m     )\n\u001b[0;32m     16\u001b[0m answer \u001b[38;5;241m=\u001b[39m answer_prompt \u001b[38;5;241m|\u001b[39m llm \u001b[38;5;241m|\u001b[39m StrOutputParser()\n\u001b[0;32m     17\u001b[0m chain \u001b[38;5;241m=\u001b[39m (\n\u001b[0;32m     18\u001b[0m     RunnablePassthrough\n\u001b[1;32m---> 19\u001b[0m     \u001b[38;5;241m.\u001b[39massign(query\u001b[38;5;241m=\u001b[39m\u001b[43mwrite_query\u001b[49m)\n\u001b[0;32m     20\u001b[0m     \u001b[38;5;241m.\u001b[39massign(result\u001b[38;5;241m=\u001b[39mitemgetter(\u001b[38;5;124m\"\u001b[39m\u001b[38;5;124mquery\u001b[39m\u001b[38;5;124m\"\u001b[39m)\n\u001b[0;32m     21\u001b[0m         \u001b[38;5;241m|\u001b[39m execute_query \n\u001b[0;32m     22\u001b[0m     )\n\u001b[0;32m     23\u001b[0m     \u001b[38;5;66;03m# | answer \u001b[39;00m\n\u001b[0;32m     24\u001b[0m )\n\u001b[0;32m     27\u001b[0m chain\u001b[38;5;241m.\u001b[39minvoke({\u001b[38;5;124m\"\u001b[39m\u001b[38;5;124mquestion\u001b[39m\u001b[38;5;124m\"\u001b[39m: \u001b[38;5;124m\"\u001b[39m\u001b[38;5;124mHow many employees are there\u001b[39m\u001b[38;5;124m\"\u001b[39m})\n",
      "\u001b[1;31mNameError\u001b[0m: name 'write_query' is not defined"
     ]
    }
   ],
   "source": [
    "from operator import itemgetter\n",
    "\n",
    "from langchain_core.output_parsers import StrOutputParser\n",
    "from langchain_core.prompts import PromptTemplate\n",
    "from langchain_core.runnables import RunnablePassthrough\n",
    "\n",
    "answer_prompt = PromptTemplate.from_template(\n",
    "    \"\"\"Given the following user question, corresponding SQL query, and SQL result, answer the user question.\n",
    "\n",
    "        Question: {question}\n",
    "        SQL Query: {query}\n",
    "        SQL Result: {result}\n",
    "        Answer: \"\"\"\n",
    "    )\n",
    "\n",
    "answer = answer_prompt | llm | StrOutputParser()\n",
    "chain = (\n",
    "    RunnablePassthrough\n",
    "    .assign(query=write_query)\n",
    "    .assign(result=itemgetter(\"query\")\n",
    "        | execute_query \n",
    "    )\n",
    "    # | answer \n",
    ")\n",
    "\n",
    "\n",
    "chain.invoke({\"question\": \"How many employees are there\"})"
   ]
  },
  {
   "cell_type": "code",
   "execution_count": 13,
   "metadata": {},
   "outputs": [],
   "source": [
    "from langchain.chains import create_sql_query_chain\n",
    "db_chain = create_sql_query_chain(llm, db)\n",
    "response = db_chain.invoke({\"question\": \"How many employees are there ?\"})"
   ]
  },
  {
   "cell_type": "code",
   "execution_count": 14,
   "metadata": {},
   "outputs": [
    {
     "data": {
      "text/plain": [
       "'Question: How many employees are there ?\\nSQLQuery: SELECT COUNT(\"EmployeeId\") FROM \"Employee\"'"
      ]
     },
     "execution_count": 14,
     "metadata": {},
     "output_type": "execute_result"
    }
   ],
   "source": [
    "response"
   ]
  },
  {
   "cell_type": "code",
   "execution_count": 15,
   "metadata": {},
   "outputs": [],
   "source": [
    "cleaned_query = llm.invoke(f\"extract the final query syntax from this: {response} . No preamble , not any extra stuff.\")"
   ]
  },
  {
   "cell_type": "code",
   "execution_count": 16,
   "metadata": {},
   "outputs": [
    {
     "data": {
      "text/plain": [
       "'SELECT COUNT(\"EmployeeId\") FROM \"Employee\"'"
      ]
     },
     "execution_count": 16,
     "metadata": {},
     "output_type": "execute_result"
    }
   ],
   "source": [
    "cleaned_query.content"
   ]
  },
  {
   "cell_type": "code",
   "execution_count": 17,
   "metadata": {},
   "outputs": [
    {
     "data": {
      "text/plain": [
       "'[(8,)]'"
      ]
     },
     "execution_count": 17,
     "metadata": {},
     "output_type": "execute_result"
    }
   ],
   "source": [
    "db.run(cleaned_query.content)"
   ]
  },
  {
   "cell_type": "code",
   "execution_count": 18,
   "metadata": {},
   "outputs": [
    {
     "name": "stdout",
     "output_type": "stream",
     "text": [
      "You are a SQLite expert. Given an input question, first create a syntactically correct SQLite query to run, then look at the results of the query and return the answer to the input question.\n",
      "Unless the user specifies in the question a specific number of examples to obtain, query for at most 5 results using the LIMIT clause as per SQLite. You can order the results to return the most informative data in the database.\n",
      "Never query for all columns from a table. You must query only the columns that are needed to answer the question. Wrap each column name in double quotes (\") to denote them as delimited identifiers.\n",
      "Pay attention to use only the column names you can see in the tables below. Be careful to not query for columns that do not exist. Also, pay attention to which column is in which table.\n",
      "Pay attention to use date('now') function to get the current date, if the question involves \"today\".\n",
      "\n",
      "Use the following format:\n",
      "\n",
      "Question: Question here\n",
      "SQLQuery: SQL Query to run\n",
      "SQLResult: Result of the SQLQuery\n",
      "Answer: Final answer here\n",
      "\n",
      "Only use the following tables:\n",
      "\u001b[33;1m\u001b[1;3m{table_info}\u001b[0m\n",
      "\n",
      "Question: \u001b[33;1m\u001b[1;3m{input}\u001b[0m\n"
     ]
    }
   ],
   "source": [
    "chain.get_prompts()[0].pretty_print()"
   ]
  },
  {
   "cell_type": "code",
   "execution_count": 19,
   "metadata": {},
   "outputs": [],
   "source": [
    "from langchain_community.agent_toolkits.sql.toolkit import SQLDatabaseToolkit\n",
    "\n",
    "toolkit = SQLDatabaseToolkit(db=db, llm=llm)"
   ]
  },
  {
   "cell_type": "code",
   "execution_count": 20,
   "metadata": {},
   "outputs": [
    {
     "data": {
      "text/plain": [
       "[QuerySQLDataBaseTool(description=\"Input to this tool is a detailed and correct SQL query, output is a result from the database. If the query is not correct, an error message will be returned. If an error is returned, rewrite the query, check the query, and try again. If you encounter an issue with Unknown column 'xxxx' in 'field list', use sql_db_schema to query the correct table fields.\", db=<langchain_community.utilities.sql_database.SQLDatabase object at 0x00000218BAB684C0>),\n",
       " InfoSQLDatabaseTool(description='Input to this tool is a comma-separated list of tables, output is the schema and sample rows for those tables. Be sure that the tables actually exist by calling sql_db_list_tables first! Example Input: table1, table2, table3', db=<langchain_community.utilities.sql_database.SQLDatabase object at 0x00000218BAB684C0>),\n",
       " ListSQLDatabaseTool(db=<langchain_community.utilities.sql_database.SQLDatabase object at 0x00000218BAB684C0>),\n",
       " QuerySQLCheckerTool(description='Use this tool to double check if your query is correct before executing it. Always use this tool before executing a query with sql_db_query!', db=<langchain_community.utilities.sql_database.SQLDatabase object at 0x00000218BAB684C0>, llm=ChatGroq(client=<groq.resources.chat.completions.Completions object at 0x00000218BAD99720>, async_client=<groq.resources.chat.completions.AsyncCompletions object at 0x00000218BAD9A3E0>, model_name='llama-3.3-70b-versatile', model_kwargs={}, groq_api_key=SecretStr('**********')), llm_chain=LLMChain(verbose=False, prompt=PromptTemplate(input_variables=['dialect', 'query'], input_types={}, partial_variables={}, template='\\n{query}\\nDouble check the {dialect} query above for common mistakes, including:\\n- Using NOT IN with NULL values\\n- Using UNION when UNION ALL should have been used\\n- Using BETWEEN for exclusive ranges\\n- Data type mismatch in predicates\\n- Properly quoting identifiers\\n- Using the correct number of arguments for functions\\n- Casting to the correct data type\\n- Using the proper columns for joins\\n\\nIf there are any of the above mistakes, rewrite the query. If there are no mistakes, just reproduce the original query.\\n\\nOutput the final SQL query only.\\n\\nSQL Query: '), llm=ChatGroq(client=<groq.resources.chat.completions.Completions object at 0x00000218BAD99720>, async_client=<groq.resources.chat.completions.AsyncCompletions object at 0x00000218BAD9A3E0>, model_name='llama-3.3-70b-versatile', model_kwargs={}, groq_api_key=SecretStr('**********')), output_parser=StrOutputParser(), llm_kwargs={}))]"
      ]
     },
     "execution_count": 20,
     "metadata": {},
     "output_type": "execute_result"
    }
   ],
   "source": [
    "toolkit.get_tools()"
   ]
  },
  {
   "cell_type": "code",
   "execution_count": 21,
   "metadata": {},
   "outputs": [
    {
     "name": "stderr",
     "output_type": "stream",
     "text": [
      "c:\\Users\\abc\\miniconda3\\envs\\practice\\lib\\site-packages\\langsmith\\client.py:354: LangSmithMissingAPIKeyWarning: API key must be provided when using hosted LangSmith API\n",
      "  warnings.warn(\n"
     ]
    },
    {
     "name": "stdout",
     "output_type": "stream",
     "text": [
      "['dialect', 'top_k']\n"
     ]
    }
   ],
   "source": [
    "from langchain import hub\n",
    "\n",
    "prompt_template = hub.pull(\"langchain-ai/sql-agent-system-prompt\")\n",
    "\n",
    "assert len(prompt_template.messages) == 1\n",
    "print(prompt_template.input_variables)"
   ]
  },
  {
   "cell_type": "code",
   "execution_count": 22,
   "metadata": {},
   "outputs": [
    {
     "name": "stdout",
     "output_type": "stream",
     "text": [
      "================================\u001b[1m System Message \u001b[0m================================\n",
      "\n",
      "You are an agent designed to interact with a SQL database.\n",
      "Given an input question, create a syntactically correct \u001b[33;1m\u001b[1;3m{dialect}\u001b[0m query to run, then look at the results of the query and return the answer.\n",
      "Unless the user specifies a specific number of examples they wish to obtain, always limit your query to at most \u001b[33;1m\u001b[1;3m{top_k}\u001b[0m results.\n",
      "You can order the results by a relevant column to return the most interesting examples in the database.\n",
      "Never query for all the columns from a specific table, only ask for the relevant columns given the question.\n",
      "You have access to tools for interacting with the database.\n",
      "Only use the below tools. Only use the information returned by the below tools to construct your final answer.\n",
      "You MUST double check your query before executing it. If you get an error while executing a query, rewrite the query and try again.\n",
      "\n",
      "DO NOT make any DML statements (INSERT, UPDATE, DELETE, DROP etc.) to the database.\n",
      "\n",
      "To start you should ALWAYS look at the tables in the database to see what you can query.\n",
      "Do NOT skip this step.\n",
      "Then you should query the schema of the most relevant tables.\n",
      "None\n"
     ]
    }
   ],
   "source": [
    "from pprint import pprint\n",
    "pprint(prompt_template.pretty_print())"
   ]
  },
  {
   "cell_type": "code",
   "execution_count": 23,
   "metadata": {},
   "outputs": [],
   "source": [
    "import re\n",
    "\n",
    "def extract_sql_queries(llm_response):\n",
    "    \"\"\"\n",
    "    Extracts all SQL queries from the given LLM response in markdown format.\n",
    "\n",
    "    Args:\n",
    "        llm_response (str): The LLM's markdown response containing SQL queries.\n",
    "\n",
    "    Returns:\n",
    "        list: A list of extracted SQL queries.\n",
    "    \"\"\"\n",
    "    # Regular expression to match SQL queries\n",
    "    sql_pattern = r\"```sql\\s+(.*?)\\s+```\"\n",
    "    matches = re.findall(sql_pattern, llm_response, re.DOTALL)\n",
    "\n",
    "    # Strip and return the SQL queries\n",
    "    return [match.strip() for match in matches]\n",
    "\n",
    "# Example LLM response\n",
    "llm_response ='''\n",
    "'Here is the answer:\\n\\nQuestion: How many employees are there\\nSQLQuery: SELECT COUNT(\"EmployeeId\") FROM \"Employee\" LIMIT 1;',\n",
    "Here are the SQL queries:\n",
    "\n",
    "```sql\n",
    "SELECT * FROM users WHERE age > 30;\n",
    "```\n",
    "\n",
    "Certainly! Here’s a simple SQL query example that retrieves data from a table called `employees`. This query selects the names and job titles of all employees:\n",
    "\n",
    "```sql\n",
    "SELECT name, job_title\n",
    "FROM employees;\n",
    "```\n",
    "\n",
    "### Explanation:\n",
    "- **SELECT**: This clause specifies the columns you want to retrieve. In this case, `name` and `job_title`.\n",
    "- **FROM**: This clause specifies the table from which to retrieve the data, which is `employees` in this example.\n",
    "\n",
    "If you need a specific query or have a particular scenario in mind, feel free to ask!\n",
    "'''"
   ]
  },
  {
   "cell_type": "code",
   "execution_count": 24,
   "metadata": {},
   "outputs": [
    {
     "name": "stdout",
     "output_type": "stream",
     "text": [
      "Extracted SQL Queries:\n",
      "SELECT * FROM users WHERE age > 30;\n",
      "SELECT name, job_title\n",
      "FROM employees;\n"
     ]
    }
   ],
   "source": [
    "sql_queries = extract_sql_queries(llm_response)\n",
    "print(\"Extracted SQL Queries:\")\n",
    "for q in sql_queries:\n",
    "    print(q)"
   ]
  }
 ],
 "metadata": {
  "kernelspec": {
   "display_name": "practice",
   "language": "python",
   "name": "python3"
  },
  "language_info": {
   "codemirror_mode": {
    "name": "ipython",
    "version": 3
   },
   "file_extension": ".py",
   "mimetype": "text/x-python",
   "name": "python",
   "nbconvert_exporter": "python",
   "pygments_lexer": "ipython3",
   "version": "3.10.15"
  }
 },
 "nbformat": 4,
 "nbformat_minor": 2
}
